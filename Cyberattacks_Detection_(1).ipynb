{
  "cells": [
    {
      "cell_type": "code",
      "execution_count": null,
      "metadata": {
        "id": "a5212e30"
      },
      "outputs": [],
      "source": [
        "import pandas as pd\n",
        "import numpy as np\n",
        "import matplotlib.pyplot as plt\n",
        "\n",
        "plt.rcParams[\"figure.figsize\"] = (15,15)"
      ],
      "id": "a5212e30"
    },
    {
      "cell_type": "code",
      "execution_count": null,
      "metadata": {
        "colab": {
          "base_uri": "https://localhost:8080/",
          "height": 300
        },
        "id": "820802a6",
        "outputId": "5a84a43f-90c0-4c62-d4d6-dfd259e2e9c5"
      },
      "outputs": [
        {
          "output_type": "execute_result",
          "data": {
            "text/plain": [
              "   id       dur proto service state  spkts  dpkts  sbytes  dbytes  \\\n",
              "0   1  0.000011   udp       -   INT      2      0     496       0   \n",
              "1   2  0.000008   udp       -   INT      2      0    1762       0   \n",
              "2   3  0.000005   udp       -   INT      2      0    1068       0   \n",
              "3   4  0.000006   udp       -   INT      2      0     900       0   \n",
              "4   5  0.000010   udp       -   INT      2      0    2126       0   \n",
              "\n",
              "          rate  ...  ct_dst_sport_ltm  ct_dst_src_ltm  is_ftp_login  \\\n",
              "0   90909.0902  ...                 1               2             0   \n",
              "1  125000.0003  ...                 1               2             0   \n",
              "2  200000.0051  ...                 1               3             0   \n",
              "3  166666.6608  ...                 1               3             0   \n",
              "4  100000.0025  ...                 1               3             0   \n",
              "\n",
              "   ct_ftp_cmd  ct_flw_http_mthd  ct_src_ltm  ct_srv_dst  is_sm_ips_ports  \\\n",
              "0           0                 0           1           2                0   \n",
              "1           0                 0           1           2                0   \n",
              "2           0                 0           1           3                0   \n",
              "3           0                 0           2           3                0   \n",
              "4           0                 0           2           3                0   \n",
              "\n",
              "   attack_cat  label  \n",
              "0      Normal      0  \n",
              "1      Normal      0  \n",
              "2      Normal      0  \n",
              "3      Normal      0  \n",
              "4      Normal      0  \n",
              "\n",
              "[5 rows x 45 columns]"
            ],
            "text/html": [
              "\n",
              "  <div id=\"df-ee35c700-2446-4303-98d0-eee1e51d4370\">\n",
              "    <div class=\"colab-df-container\">\n",
              "      <div>\n",
              "<style scoped>\n",
              "    .dataframe tbody tr th:only-of-type {\n",
              "        vertical-align: middle;\n",
              "    }\n",
              "\n",
              "    .dataframe tbody tr th {\n",
              "        vertical-align: top;\n",
              "    }\n",
              "\n",
              "    .dataframe thead th {\n",
              "        text-align: right;\n",
              "    }\n",
              "</style>\n",
              "<table border=\"1\" class=\"dataframe\">\n",
              "  <thead>\n",
              "    <tr style=\"text-align: right;\">\n",
              "      <th></th>\n",
              "      <th>id</th>\n",
              "      <th>dur</th>\n",
              "      <th>proto</th>\n",
              "      <th>service</th>\n",
              "      <th>state</th>\n",
              "      <th>spkts</th>\n",
              "      <th>dpkts</th>\n",
              "      <th>sbytes</th>\n",
              "      <th>dbytes</th>\n",
              "      <th>rate</th>\n",
              "      <th>...</th>\n",
              "      <th>ct_dst_sport_ltm</th>\n",
              "      <th>ct_dst_src_ltm</th>\n",
              "      <th>is_ftp_login</th>\n",
              "      <th>ct_ftp_cmd</th>\n",
              "      <th>ct_flw_http_mthd</th>\n",
              "      <th>ct_src_ltm</th>\n",
              "      <th>ct_srv_dst</th>\n",
              "      <th>is_sm_ips_ports</th>\n",
              "      <th>attack_cat</th>\n",
              "      <th>label</th>\n",
              "    </tr>\n",
              "  </thead>\n",
              "  <tbody>\n",
              "    <tr>\n",
              "      <th>0</th>\n",
              "      <td>1</td>\n",
              "      <td>0.000011</td>\n",
              "      <td>udp</td>\n",
              "      <td>-</td>\n",
              "      <td>INT</td>\n",
              "      <td>2</td>\n",
              "      <td>0</td>\n",
              "      <td>496</td>\n",
              "      <td>0</td>\n",
              "      <td>90909.0902</td>\n",
              "      <td>...</td>\n",
              "      <td>1</td>\n",
              "      <td>2</td>\n",
              "      <td>0</td>\n",
              "      <td>0</td>\n",
              "      <td>0</td>\n",
              "      <td>1</td>\n",
              "      <td>2</td>\n",
              "      <td>0</td>\n",
              "      <td>Normal</td>\n",
              "      <td>0</td>\n",
              "    </tr>\n",
              "    <tr>\n",
              "      <th>1</th>\n",
              "      <td>2</td>\n",
              "      <td>0.000008</td>\n",
              "      <td>udp</td>\n",
              "      <td>-</td>\n",
              "      <td>INT</td>\n",
              "      <td>2</td>\n",
              "      <td>0</td>\n",
              "      <td>1762</td>\n",
              "      <td>0</td>\n",
              "      <td>125000.0003</td>\n",
              "      <td>...</td>\n",
              "      <td>1</td>\n",
              "      <td>2</td>\n",
              "      <td>0</td>\n",
              "      <td>0</td>\n",
              "      <td>0</td>\n",
              "      <td>1</td>\n",
              "      <td>2</td>\n",
              "      <td>0</td>\n",
              "      <td>Normal</td>\n",
              "      <td>0</td>\n",
              "    </tr>\n",
              "    <tr>\n",
              "      <th>2</th>\n",
              "      <td>3</td>\n",
              "      <td>0.000005</td>\n",
              "      <td>udp</td>\n",
              "      <td>-</td>\n",
              "      <td>INT</td>\n",
              "      <td>2</td>\n",
              "      <td>0</td>\n",
              "      <td>1068</td>\n",
              "      <td>0</td>\n",
              "      <td>200000.0051</td>\n",
              "      <td>...</td>\n",
              "      <td>1</td>\n",
              "      <td>3</td>\n",
              "      <td>0</td>\n",
              "      <td>0</td>\n",
              "      <td>0</td>\n",
              "      <td>1</td>\n",
              "      <td>3</td>\n",
              "      <td>0</td>\n",
              "      <td>Normal</td>\n",
              "      <td>0</td>\n",
              "    </tr>\n",
              "    <tr>\n",
              "      <th>3</th>\n",
              "      <td>4</td>\n",
              "      <td>0.000006</td>\n",
              "      <td>udp</td>\n",
              "      <td>-</td>\n",
              "      <td>INT</td>\n",
              "      <td>2</td>\n",
              "      <td>0</td>\n",
              "      <td>900</td>\n",
              "      <td>0</td>\n",
              "      <td>166666.6608</td>\n",
              "      <td>...</td>\n",
              "      <td>1</td>\n",
              "      <td>3</td>\n",
              "      <td>0</td>\n",
              "      <td>0</td>\n",
              "      <td>0</td>\n",
              "      <td>2</td>\n",
              "      <td>3</td>\n",
              "      <td>0</td>\n",
              "      <td>Normal</td>\n",
              "      <td>0</td>\n",
              "    </tr>\n",
              "    <tr>\n",
              "      <th>4</th>\n",
              "      <td>5</td>\n",
              "      <td>0.000010</td>\n",
              "      <td>udp</td>\n",
              "      <td>-</td>\n",
              "      <td>INT</td>\n",
              "      <td>2</td>\n",
              "      <td>0</td>\n",
              "      <td>2126</td>\n",
              "      <td>0</td>\n",
              "      <td>100000.0025</td>\n",
              "      <td>...</td>\n",
              "      <td>1</td>\n",
              "      <td>3</td>\n",
              "      <td>0</td>\n",
              "      <td>0</td>\n",
              "      <td>0</td>\n",
              "      <td>2</td>\n",
              "      <td>3</td>\n",
              "      <td>0</td>\n",
              "      <td>Normal</td>\n",
              "      <td>0</td>\n",
              "    </tr>\n",
              "  </tbody>\n",
              "</table>\n",
              "<p>5 rows × 45 columns</p>\n",
              "</div>\n",
              "      <button class=\"colab-df-convert\" onclick=\"convertToInteractive('df-ee35c700-2446-4303-98d0-eee1e51d4370')\"\n",
              "              title=\"Convert this dataframe to an interactive table.\"\n",
              "              style=\"display:none;\">\n",
              "        \n",
              "  <svg xmlns=\"http://www.w3.org/2000/svg\" height=\"24px\"viewBox=\"0 0 24 24\"\n",
              "       width=\"24px\">\n",
              "    <path d=\"M0 0h24v24H0V0z\" fill=\"none\"/>\n",
              "    <path d=\"M18.56 5.44l.94 2.06.94-2.06 2.06-.94-2.06-.94-.94-2.06-.94 2.06-2.06.94zm-11 1L8.5 8.5l.94-2.06 2.06-.94-2.06-.94L8.5 2.5l-.94 2.06-2.06.94zm10 10l.94 2.06.94-2.06 2.06-.94-2.06-.94-.94-2.06-.94 2.06-2.06.94z\"/><path d=\"M17.41 7.96l-1.37-1.37c-.4-.4-.92-.59-1.43-.59-.52 0-1.04.2-1.43.59L10.3 9.45l-7.72 7.72c-.78.78-.78 2.05 0 2.83L4 21.41c.39.39.9.59 1.41.59.51 0 1.02-.2 1.41-.59l7.78-7.78 2.81-2.81c.8-.78.8-2.07 0-2.86zM5.41 20L4 18.59l7.72-7.72 1.47 1.35L5.41 20z\"/>\n",
              "  </svg>\n",
              "      </button>\n",
              "      \n",
              "  <style>\n",
              "    .colab-df-container {\n",
              "      display:flex;\n",
              "      flex-wrap:wrap;\n",
              "      gap: 12px;\n",
              "    }\n",
              "\n",
              "    .colab-df-convert {\n",
              "      background-color: #E8F0FE;\n",
              "      border: none;\n",
              "      border-radius: 50%;\n",
              "      cursor: pointer;\n",
              "      display: none;\n",
              "      fill: #1967D2;\n",
              "      height: 32px;\n",
              "      padding: 0 0 0 0;\n",
              "      width: 32px;\n",
              "    }\n",
              "\n",
              "    .colab-df-convert:hover {\n",
              "      background-color: #E2EBFA;\n",
              "      box-shadow: 0px 1px 2px rgba(60, 64, 67, 0.3), 0px 1px 3px 1px rgba(60, 64, 67, 0.15);\n",
              "      fill: #174EA6;\n",
              "    }\n",
              "\n",
              "    [theme=dark] .colab-df-convert {\n",
              "      background-color: #3B4455;\n",
              "      fill: #D2E3FC;\n",
              "    }\n",
              "\n",
              "    [theme=dark] .colab-df-convert:hover {\n",
              "      background-color: #434B5C;\n",
              "      box-shadow: 0px 1px 3px 1px rgba(0, 0, 0, 0.15);\n",
              "      filter: drop-shadow(0px 1px 2px rgba(0, 0, 0, 0.3));\n",
              "      fill: #FFFFFF;\n",
              "    }\n",
              "  </style>\n",
              "\n",
              "      <script>\n",
              "        const buttonEl =\n",
              "          document.querySelector('#df-ee35c700-2446-4303-98d0-eee1e51d4370 button.colab-df-convert');\n",
              "        buttonEl.style.display =\n",
              "          google.colab.kernel.accessAllowed ? 'block' : 'none';\n",
              "\n",
              "        async function convertToInteractive(key) {\n",
              "          const element = document.querySelector('#df-ee35c700-2446-4303-98d0-eee1e51d4370');\n",
              "          const dataTable =\n",
              "            await google.colab.kernel.invokeFunction('convertToInteractive',\n",
              "                                                     [key], {});\n",
              "          if (!dataTable) return;\n",
              "\n",
              "          const docLinkHtml = 'Like what you see? Visit the ' +\n",
              "            '<a target=\"_blank\" href=https://colab.research.google.com/notebooks/data_table.ipynb>data table notebook</a>'\n",
              "            + ' to learn more about interactive tables.';\n",
              "          element.innerHTML = '';\n",
              "          dataTable['output_type'] = 'display_data';\n",
              "          await google.colab.output.renderOutput(dataTable, element);\n",
              "          const docLink = document.createElement('div');\n",
              "          docLink.innerHTML = docLinkHtml;\n",
              "          element.appendChild(docLink);\n",
              "        }\n",
              "      </script>\n",
              "    </div>\n",
              "  </div>\n",
              "  "
            ]
          },
          "metadata": {},
          "execution_count": 48
        }
      ],
      "source": [
        "df=pd.read_csv(\"UNSW_NB15_training-set.csv\")\n",
        "df.head()"
      ],
      "id": "820802a6"
    },
    {
      "cell_type": "code",
      "execution_count": null,
      "metadata": {
        "colab": {
          "base_uri": "https://localhost:8080/"
        },
        "id": "bd0633a7",
        "outputId": "1e17bee5-6ccf-45af-f511-373faadb494c"
      },
      "outputs": [
        {
          "output_type": "execute_result",
          "data": {
            "text/plain": [
              "82332"
            ]
          },
          "metadata": {},
          "execution_count": 49
        }
      ],
      "source": [
        "len(df)"
      ],
      "id": "bd0633a7"
    },
    {
      "cell_type": "code",
      "execution_count": null,
      "metadata": {
        "id": "2aee450b"
      },
      "outputs": [],
      "source": [
        "def one_hot_encode(element):\n",
        "    arr = df[element]\n",
        "    arr_hm = {}\n",
        "    unique_arr = list(set(arr))\n",
        "    for i in range(len(unique_arr)):\n",
        "        arr_hm[unique_arr[i]]=i\n",
        "        \n",
        "    encoded_arr = []\n",
        "    for i in arr:\n",
        "        encoded_arr.append(arr_hm[i])\n",
        "        \n",
        "    return arr_hm, encoded_arr, unique_arr"
      ],
      "id": "2aee450b"
    },
    {
      "cell_type": "code",
      "execution_count": null,
      "metadata": {
        "id": "b84e032f"
      },
      "outputs": [],
      "source": [
        "hm_proto, encodes_proto, feature_class_proto = one_hot_encode(\"proto\")\n",
        "df[\"encoded_proto\"]=encodes_proto\n",
        "hm_service, encodes_service, feature_class_service = one_hot_encode(\"service\")\n",
        "df[\"encoded_service\"]=encodes_service\n",
        "hm_attack_cat, encodes_attack_cat, feature_class_attack_cat = one_hot_encode(\"attack_cat\")\n",
        "df[\"encoded_attack_cat\"]=encodes_attack_cat"
      ],
      "id": "b84e032f"
    },
    {
      "cell_type": "code",
      "execution_count": null,
      "metadata": {
        "colab": {
          "base_uri": "https://localhost:8080/",
          "height": 300
        },
        "id": "9a998f69",
        "outputId": "c9f5d9af-7228-401d-9b1f-2d3a6c927608"
      },
      "outputs": [
        {
          "output_type": "execute_result",
          "data": {
            "text/plain": [
              "   id       dur proto service state  spkts  dpkts  sbytes  dbytes  \\\n",
              "0   1  0.000011   udp       -   INT      2      0     496       0   \n",
              "1   2  0.000008   udp       -   INT      2      0    1762       0   \n",
              "2   3  0.000005   udp       -   INT      2      0    1068       0   \n",
              "3   4  0.000006   udp       -   INT      2      0     900       0   \n",
              "4   5  0.000010   udp       -   INT      2      0    2126       0   \n",
              "\n",
              "          rate  ...  ct_ftp_cmd  ct_flw_http_mthd  ct_src_ltm  ct_srv_dst  \\\n",
              "0   90909.0902  ...           0                 0           1           2   \n",
              "1  125000.0003  ...           0                 0           1           2   \n",
              "2  200000.0051  ...           0                 0           1           3   \n",
              "3  166666.6608  ...           0                 0           2           3   \n",
              "4  100000.0025  ...           0                 0           2           3   \n",
              "\n",
              "   is_sm_ips_ports  attack_cat  label  encoded_proto  encoded_service  \\\n",
              "0                0      Normal      0            119                7   \n",
              "1                0      Normal      0            119                7   \n",
              "2                0      Normal      0            119                7   \n",
              "3                0      Normal      0            119                7   \n",
              "4                0      Normal      0            119                7   \n",
              "\n",
              "   encoded_attack_cat  \n",
              "0                   4  \n",
              "1                   4  \n",
              "2                   4  \n",
              "3                   4  \n",
              "4                   4  \n",
              "\n",
              "[5 rows x 48 columns]"
            ],
            "text/html": [
              "\n",
              "  <div id=\"df-5ae2052d-2aa7-4f88-8e1b-b69ce350b59c\">\n",
              "    <div class=\"colab-df-container\">\n",
              "      <div>\n",
              "<style scoped>\n",
              "    .dataframe tbody tr th:only-of-type {\n",
              "        vertical-align: middle;\n",
              "    }\n",
              "\n",
              "    .dataframe tbody tr th {\n",
              "        vertical-align: top;\n",
              "    }\n",
              "\n",
              "    .dataframe thead th {\n",
              "        text-align: right;\n",
              "    }\n",
              "</style>\n",
              "<table border=\"1\" class=\"dataframe\">\n",
              "  <thead>\n",
              "    <tr style=\"text-align: right;\">\n",
              "      <th></th>\n",
              "      <th>id</th>\n",
              "      <th>dur</th>\n",
              "      <th>proto</th>\n",
              "      <th>service</th>\n",
              "      <th>state</th>\n",
              "      <th>spkts</th>\n",
              "      <th>dpkts</th>\n",
              "      <th>sbytes</th>\n",
              "      <th>dbytes</th>\n",
              "      <th>rate</th>\n",
              "      <th>...</th>\n",
              "      <th>ct_ftp_cmd</th>\n",
              "      <th>ct_flw_http_mthd</th>\n",
              "      <th>ct_src_ltm</th>\n",
              "      <th>ct_srv_dst</th>\n",
              "      <th>is_sm_ips_ports</th>\n",
              "      <th>attack_cat</th>\n",
              "      <th>label</th>\n",
              "      <th>encoded_proto</th>\n",
              "      <th>encoded_service</th>\n",
              "      <th>encoded_attack_cat</th>\n",
              "    </tr>\n",
              "  </thead>\n",
              "  <tbody>\n",
              "    <tr>\n",
              "      <th>0</th>\n",
              "      <td>1</td>\n",
              "      <td>0.000011</td>\n",
              "      <td>udp</td>\n",
              "      <td>-</td>\n",
              "      <td>INT</td>\n",
              "      <td>2</td>\n",
              "      <td>0</td>\n",
              "      <td>496</td>\n",
              "      <td>0</td>\n",
              "      <td>90909.0902</td>\n",
              "      <td>...</td>\n",
              "      <td>0</td>\n",
              "      <td>0</td>\n",
              "      <td>1</td>\n",
              "      <td>2</td>\n",
              "      <td>0</td>\n",
              "      <td>Normal</td>\n",
              "      <td>0</td>\n",
              "      <td>119</td>\n",
              "      <td>7</td>\n",
              "      <td>4</td>\n",
              "    </tr>\n",
              "    <tr>\n",
              "      <th>1</th>\n",
              "      <td>2</td>\n",
              "      <td>0.000008</td>\n",
              "      <td>udp</td>\n",
              "      <td>-</td>\n",
              "      <td>INT</td>\n",
              "      <td>2</td>\n",
              "      <td>0</td>\n",
              "      <td>1762</td>\n",
              "      <td>0</td>\n",
              "      <td>125000.0003</td>\n",
              "      <td>...</td>\n",
              "      <td>0</td>\n",
              "      <td>0</td>\n",
              "      <td>1</td>\n",
              "      <td>2</td>\n",
              "      <td>0</td>\n",
              "      <td>Normal</td>\n",
              "      <td>0</td>\n",
              "      <td>119</td>\n",
              "      <td>7</td>\n",
              "      <td>4</td>\n",
              "    </tr>\n",
              "    <tr>\n",
              "      <th>2</th>\n",
              "      <td>3</td>\n",
              "      <td>0.000005</td>\n",
              "      <td>udp</td>\n",
              "      <td>-</td>\n",
              "      <td>INT</td>\n",
              "      <td>2</td>\n",
              "      <td>0</td>\n",
              "      <td>1068</td>\n",
              "      <td>0</td>\n",
              "      <td>200000.0051</td>\n",
              "      <td>...</td>\n",
              "      <td>0</td>\n",
              "      <td>0</td>\n",
              "      <td>1</td>\n",
              "      <td>3</td>\n",
              "      <td>0</td>\n",
              "      <td>Normal</td>\n",
              "      <td>0</td>\n",
              "      <td>119</td>\n",
              "      <td>7</td>\n",
              "      <td>4</td>\n",
              "    </tr>\n",
              "    <tr>\n",
              "      <th>3</th>\n",
              "      <td>4</td>\n",
              "      <td>0.000006</td>\n",
              "      <td>udp</td>\n",
              "      <td>-</td>\n",
              "      <td>INT</td>\n",
              "      <td>2</td>\n",
              "      <td>0</td>\n",
              "      <td>900</td>\n",
              "      <td>0</td>\n",
              "      <td>166666.6608</td>\n",
              "      <td>...</td>\n",
              "      <td>0</td>\n",
              "      <td>0</td>\n",
              "      <td>2</td>\n",
              "      <td>3</td>\n",
              "      <td>0</td>\n",
              "      <td>Normal</td>\n",
              "      <td>0</td>\n",
              "      <td>119</td>\n",
              "      <td>7</td>\n",
              "      <td>4</td>\n",
              "    </tr>\n",
              "    <tr>\n",
              "      <th>4</th>\n",
              "      <td>5</td>\n",
              "      <td>0.000010</td>\n",
              "      <td>udp</td>\n",
              "      <td>-</td>\n",
              "      <td>INT</td>\n",
              "      <td>2</td>\n",
              "      <td>0</td>\n",
              "      <td>2126</td>\n",
              "      <td>0</td>\n",
              "      <td>100000.0025</td>\n",
              "      <td>...</td>\n",
              "      <td>0</td>\n",
              "      <td>0</td>\n",
              "      <td>2</td>\n",
              "      <td>3</td>\n",
              "      <td>0</td>\n",
              "      <td>Normal</td>\n",
              "      <td>0</td>\n",
              "      <td>119</td>\n",
              "      <td>7</td>\n",
              "      <td>4</td>\n",
              "    </tr>\n",
              "  </tbody>\n",
              "</table>\n",
              "<p>5 rows × 48 columns</p>\n",
              "</div>\n",
              "      <button class=\"colab-df-convert\" onclick=\"convertToInteractive('df-5ae2052d-2aa7-4f88-8e1b-b69ce350b59c')\"\n",
              "              title=\"Convert this dataframe to an interactive table.\"\n",
              "              style=\"display:none;\">\n",
              "        \n",
              "  <svg xmlns=\"http://www.w3.org/2000/svg\" height=\"24px\"viewBox=\"0 0 24 24\"\n",
              "       width=\"24px\">\n",
              "    <path d=\"M0 0h24v24H0V0z\" fill=\"none\"/>\n",
              "    <path d=\"M18.56 5.44l.94 2.06.94-2.06 2.06-.94-2.06-.94-.94-2.06-.94 2.06-2.06.94zm-11 1L8.5 8.5l.94-2.06 2.06-.94-2.06-.94L8.5 2.5l-.94 2.06-2.06.94zm10 10l.94 2.06.94-2.06 2.06-.94-2.06-.94-.94-2.06-.94 2.06-2.06.94z\"/><path d=\"M17.41 7.96l-1.37-1.37c-.4-.4-.92-.59-1.43-.59-.52 0-1.04.2-1.43.59L10.3 9.45l-7.72 7.72c-.78.78-.78 2.05 0 2.83L4 21.41c.39.39.9.59 1.41.59.51 0 1.02-.2 1.41-.59l7.78-7.78 2.81-2.81c.8-.78.8-2.07 0-2.86zM5.41 20L4 18.59l7.72-7.72 1.47 1.35L5.41 20z\"/>\n",
              "  </svg>\n",
              "      </button>\n",
              "      \n",
              "  <style>\n",
              "    .colab-df-container {\n",
              "      display:flex;\n",
              "      flex-wrap:wrap;\n",
              "      gap: 12px;\n",
              "    }\n",
              "\n",
              "    .colab-df-convert {\n",
              "      background-color: #E8F0FE;\n",
              "      border: none;\n",
              "      border-radius: 50%;\n",
              "      cursor: pointer;\n",
              "      display: none;\n",
              "      fill: #1967D2;\n",
              "      height: 32px;\n",
              "      padding: 0 0 0 0;\n",
              "      width: 32px;\n",
              "    }\n",
              "\n",
              "    .colab-df-convert:hover {\n",
              "      background-color: #E2EBFA;\n",
              "      box-shadow: 0px 1px 2px rgba(60, 64, 67, 0.3), 0px 1px 3px 1px rgba(60, 64, 67, 0.15);\n",
              "      fill: #174EA6;\n",
              "    }\n",
              "\n",
              "    [theme=dark] .colab-df-convert {\n",
              "      background-color: #3B4455;\n",
              "      fill: #D2E3FC;\n",
              "    }\n",
              "\n",
              "    [theme=dark] .colab-df-convert:hover {\n",
              "      background-color: #434B5C;\n",
              "      box-shadow: 0px 1px 3px 1px rgba(0, 0, 0, 0.15);\n",
              "      filter: drop-shadow(0px 1px 2px rgba(0, 0, 0, 0.3));\n",
              "      fill: #FFFFFF;\n",
              "    }\n",
              "  </style>\n",
              "\n",
              "      <script>\n",
              "        const buttonEl =\n",
              "          document.querySelector('#df-5ae2052d-2aa7-4f88-8e1b-b69ce350b59c button.colab-df-convert');\n",
              "        buttonEl.style.display =\n",
              "          google.colab.kernel.accessAllowed ? 'block' : 'none';\n",
              "\n",
              "        async function convertToInteractive(key) {\n",
              "          const element = document.querySelector('#df-5ae2052d-2aa7-4f88-8e1b-b69ce350b59c');\n",
              "          const dataTable =\n",
              "            await google.colab.kernel.invokeFunction('convertToInteractive',\n",
              "                                                     [key], {});\n",
              "          if (!dataTable) return;\n",
              "\n",
              "          const docLinkHtml = 'Like what you see? Visit the ' +\n",
              "            '<a target=\"_blank\" href=https://colab.research.google.com/notebooks/data_table.ipynb>data table notebook</a>'\n",
              "            + ' to learn more about interactive tables.';\n",
              "          element.innerHTML = '';\n",
              "          dataTable['output_type'] = 'display_data';\n",
              "          await google.colab.output.renderOutput(dataTable, element);\n",
              "          const docLink = document.createElement('div');\n",
              "          docLink.innerHTML = docLinkHtml;\n",
              "          element.appendChild(docLink);\n",
              "        }\n",
              "      </script>\n",
              "    </div>\n",
              "  </div>\n",
              "  "
            ]
          },
          "metadata": {},
          "execution_count": 53
        }
      ],
      "source": [
        "df.head()"
      ],
      "id": "9a998f69"
    },
    {
      "cell_type": "code",
      "execution_count": null,
      "metadata": {
        "colab": {
          "base_uri": "https://localhost:8080/",
          "height": 394
        },
        "id": "7303f999",
        "outputId": "5ea4e314-f008-4077-91a9-d5c70211f62a"
      },
      "outputs": [
        {
          "output_type": "execute_result",
          "data": {
            "text/plain": [
              "                 id           dur         spkts         dpkts        sbytes  \\\n",
              "count  82332.000000  82332.000000  82332.000000  82332.000000  8.233200e+04   \n",
              "mean   41166.500000      1.006756     18.666472     17.545936  7.993908e+03   \n",
              "std    23767.345519      4.710444    133.916353    115.574086  1.716423e+05   \n",
              "min        1.000000      0.000000      1.000000      0.000000  2.400000e+01   \n",
              "25%    20583.750000      0.000008      2.000000      0.000000  1.140000e+02   \n",
              "50%    41166.500000      0.014138      6.000000      2.000000  5.340000e+02   \n",
              "75%    61749.250000      0.719360     12.000000     10.000000  1.280000e+03   \n",
              "max    82332.000000     59.999989  10646.000000  11018.000000  1.435577e+07   \n",
              "\n",
              "             dbytes          rate          sttl          dttl         sload  \\\n",
              "count  8.233200e+04  8.233200e+04  82332.000000  82332.000000  8.233200e+04   \n",
              "mean   1.323379e+04  8.241089e+04    180.967667     95.713003  6.454902e+07   \n",
              "std    1.514715e+05  1.486204e+05    101.513358    116.667722  1.798618e+08   \n",
              "min    0.000000e+00  0.000000e+00      0.000000      0.000000  0.000000e+00   \n",
              "25%    0.000000e+00  2.860611e+01     62.000000      0.000000  1.120247e+04   \n",
              "50%    1.780000e+02  2.650177e+03    254.000000     29.000000  5.770032e+05   \n",
              "75%    9.560000e+02  1.111111e+05    254.000000    252.000000  6.514286e+07   \n",
              "max    1.465753e+07  1.000000e+06    255.000000    253.000000  5.268000e+09   \n",
              "\n",
              "       ...  is_ftp_login    ct_ftp_cmd  ct_flw_http_mthd    ct_src_ltm  \\\n",
              "count  ...  82332.000000  82332.000000      82332.000000  82332.000000   \n",
              "mean   ...      0.008284      0.008381          0.129743      6.468360   \n",
              "std    ...      0.091171      0.092485          0.638683      8.543927   \n",
              "min    ...      0.000000      0.000000          0.000000      1.000000   \n",
              "25%    ...      0.000000      0.000000          0.000000      1.000000   \n",
              "50%    ...      0.000000      0.000000          0.000000      3.000000   \n",
              "75%    ...      0.000000      0.000000          0.000000      7.000000   \n",
              "max    ...      2.000000      2.000000         16.000000     60.000000   \n",
              "\n",
              "         ct_srv_dst  is_sm_ips_ports         label  encoded_proto  \\\n",
              "count  82332.000000     82332.000000  82332.000000   82332.000000   \n",
              "mean       9.164262         0.011126      0.550600      88.418792   \n",
              "std       11.121413         0.104891      0.497436      27.747559   \n",
              "min        1.000000         0.000000      0.000000       0.000000   \n",
              "25%        2.000000         0.000000      0.000000      70.000000   \n",
              "50%        5.000000         0.000000      1.000000      70.000000   \n",
              "75%       11.000000         0.000000      1.000000     119.000000   \n",
              "max       62.000000         1.000000      1.000000     130.000000   \n",
              "\n",
              "       encoded_service  encoded_attack_cat  \n",
              "count     82332.000000        82332.000000  \n",
              "mean          5.857637            5.481757  \n",
              "std           2.410211            2.333399  \n",
              "min           0.000000            0.000000  \n",
              "25%           2.000000            4.000000  \n",
              "50%           7.000000            4.000000  \n",
              "75%           7.000000            7.000000  \n",
              "max          12.000000            9.000000  \n",
              "\n",
              "[8 rows x 44 columns]"
            ],
            "text/html": [
              "\n",
              "  <div id=\"df-4f817e49-8ee6-4e3d-8bbb-4a7662f51b60\">\n",
              "    <div class=\"colab-df-container\">\n",
              "      <div>\n",
              "<style scoped>\n",
              "    .dataframe tbody tr th:only-of-type {\n",
              "        vertical-align: middle;\n",
              "    }\n",
              "\n",
              "    .dataframe tbody tr th {\n",
              "        vertical-align: top;\n",
              "    }\n",
              "\n",
              "    .dataframe thead th {\n",
              "        text-align: right;\n",
              "    }\n",
              "</style>\n",
              "<table border=\"1\" class=\"dataframe\">\n",
              "  <thead>\n",
              "    <tr style=\"text-align: right;\">\n",
              "      <th></th>\n",
              "      <th>id</th>\n",
              "      <th>dur</th>\n",
              "      <th>spkts</th>\n",
              "      <th>dpkts</th>\n",
              "      <th>sbytes</th>\n",
              "      <th>dbytes</th>\n",
              "      <th>rate</th>\n",
              "      <th>sttl</th>\n",
              "      <th>dttl</th>\n",
              "      <th>sload</th>\n",
              "      <th>...</th>\n",
              "      <th>is_ftp_login</th>\n",
              "      <th>ct_ftp_cmd</th>\n",
              "      <th>ct_flw_http_mthd</th>\n",
              "      <th>ct_src_ltm</th>\n",
              "      <th>ct_srv_dst</th>\n",
              "      <th>is_sm_ips_ports</th>\n",
              "      <th>label</th>\n",
              "      <th>encoded_proto</th>\n",
              "      <th>encoded_service</th>\n",
              "      <th>encoded_attack_cat</th>\n",
              "    </tr>\n",
              "  </thead>\n",
              "  <tbody>\n",
              "    <tr>\n",
              "      <th>count</th>\n",
              "      <td>82332.000000</td>\n",
              "      <td>82332.000000</td>\n",
              "      <td>82332.000000</td>\n",
              "      <td>82332.000000</td>\n",
              "      <td>8.233200e+04</td>\n",
              "      <td>8.233200e+04</td>\n",
              "      <td>8.233200e+04</td>\n",
              "      <td>82332.000000</td>\n",
              "      <td>82332.000000</td>\n",
              "      <td>8.233200e+04</td>\n",
              "      <td>...</td>\n",
              "      <td>82332.000000</td>\n",
              "      <td>82332.000000</td>\n",
              "      <td>82332.000000</td>\n",
              "      <td>82332.000000</td>\n",
              "      <td>82332.000000</td>\n",
              "      <td>82332.000000</td>\n",
              "      <td>82332.000000</td>\n",
              "      <td>82332.000000</td>\n",
              "      <td>82332.000000</td>\n",
              "      <td>82332.000000</td>\n",
              "    </tr>\n",
              "    <tr>\n",
              "      <th>mean</th>\n",
              "      <td>41166.500000</td>\n",
              "      <td>1.006756</td>\n",
              "      <td>18.666472</td>\n",
              "      <td>17.545936</td>\n",
              "      <td>7.993908e+03</td>\n",
              "      <td>1.323379e+04</td>\n",
              "      <td>8.241089e+04</td>\n",
              "      <td>180.967667</td>\n",
              "      <td>95.713003</td>\n",
              "      <td>6.454902e+07</td>\n",
              "      <td>...</td>\n",
              "      <td>0.008284</td>\n",
              "      <td>0.008381</td>\n",
              "      <td>0.129743</td>\n",
              "      <td>6.468360</td>\n",
              "      <td>9.164262</td>\n",
              "      <td>0.011126</td>\n",
              "      <td>0.550600</td>\n",
              "      <td>88.418792</td>\n",
              "      <td>5.857637</td>\n",
              "      <td>5.481757</td>\n",
              "    </tr>\n",
              "    <tr>\n",
              "      <th>std</th>\n",
              "      <td>23767.345519</td>\n",
              "      <td>4.710444</td>\n",
              "      <td>133.916353</td>\n",
              "      <td>115.574086</td>\n",
              "      <td>1.716423e+05</td>\n",
              "      <td>1.514715e+05</td>\n",
              "      <td>1.486204e+05</td>\n",
              "      <td>101.513358</td>\n",
              "      <td>116.667722</td>\n",
              "      <td>1.798618e+08</td>\n",
              "      <td>...</td>\n",
              "      <td>0.091171</td>\n",
              "      <td>0.092485</td>\n",
              "      <td>0.638683</td>\n",
              "      <td>8.543927</td>\n",
              "      <td>11.121413</td>\n",
              "      <td>0.104891</td>\n",
              "      <td>0.497436</td>\n",
              "      <td>27.747559</td>\n",
              "      <td>2.410211</td>\n",
              "      <td>2.333399</td>\n",
              "    </tr>\n",
              "    <tr>\n",
              "      <th>min</th>\n",
              "      <td>1.000000</td>\n",
              "      <td>0.000000</td>\n",
              "      <td>1.000000</td>\n",
              "      <td>0.000000</td>\n",
              "      <td>2.400000e+01</td>\n",
              "      <td>0.000000e+00</td>\n",
              "      <td>0.000000e+00</td>\n",
              "      <td>0.000000</td>\n",
              "      <td>0.000000</td>\n",
              "      <td>0.000000e+00</td>\n",
              "      <td>...</td>\n",
              "      <td>0.000000</td>\n",
              "      <td>0.000000</td>\n",
              "      <td>0.000000</td>\n",
              "      <td>1.000000</td>\n",
              "      <td>1.000000</td>\n",
              "      <td>0.000000</td>\n",
              "      <td>0.000000</td>\n",
              "      <td>0.000000</td>\n",
              "      <td>0.000000</td>\n",
              "      <td>0.000000</td>\n",
              "    </tr>\n",
              "    <tr>\n",
              "      <th>25%</th>\n",
              "      <td>20583.750000</td>\n",
              "      <td>0.000008</td>\n",
              "      <td>2.000000</td>\n",
              "      <td>0.000000</td>\n",
              "      <td>1.140000e+02</td>\n",
              "      <td>0.000000e+00</td>\n",
              "      <td>2.860611e+01</td>\n",
              "      <td>62.000000</td>\n",
              "      <td>0.000000</td>\n",
              "      <td>1.120247e+04</td>\n",
              "      <td>...</td>\n",
              "      <td>0.000000</td>\n",
              "      <td>0.000000</td>\n",
              "      <td>0.000000</td>\n",
              "      <td>1.000000</td>\n",
              "      <td>2.000000</td>\n",
              "      <td>0.000000</td>\n",
              "      <td>0.000000</td>\n",
              "      <td>70.000000</td>\n",
              "      <td>2.000000</td>\n",
              "      <td>4.000000</td>\n",
              "    </tr>\n",
              "    <tr>\n",
              "      <th>50%</th>\n",
              "      <td>41166.500000</td>\n",
              "      <td>0.014138</td>\n",
              "      <td>6.000000</td>\n",
              "      <td>2.000000</td>\n",
              "      <td>5.340000e+02</td>\n",
              "      <td>1.780000e+02</td>\n",
              "      <td>2.650177e+03</td>\n",
              "      <td>254.000000</td>\n",
              "      <td>29.000000</td>\n",
              "      <td>5.770032e+05</td>\n",
              "      <td>...</td>\n",
              "      <td>0.000000</td>\n",
              "      <td>0.000000</td>\n",
              "      <td>0.000000</td>\n",
              "      <td>3.000000</td>\n",
              "      <td>5.000000</td>\n",
              "      <td>0.000000</td>\n",
              "      <td>1.000000</td>\n",
              "      <td>70.000000</td>\n",
              "      <td>7.000000</td>\n",
              "      <td>4.000000</td>\n",
              "    </tr>\n",
              "    <tr>\n",
              "      <th>75%</th>\n",
              "      <td>61749.250000</td>\n",
              "      <td>0.719360</td>\n",
              "      <td>12.000000</td>\n",
              "      <td>10.000000</td>\n",
              "      <td>1.280000e+03</td>\n",
              "      <td>9.560000e+02</td>\n",
              "      <td>1.111111e+05</td>\n",
              "      <td>254.000000</td>\n",
              "      <td>252.000000</td>\n",
              "      <td>6.514286e+07</td>\n",
              "      <td>...</td>\n",
              "      <td>0.000000</td>\n",
              "      <td>0.000000</td>\n",
              "      <td>0.000000</td>\n",
              "      <td>7.000000</td>\n",
              "      <td>11.000000</td>\n",
              "      <td>0.000000</td>\n",
              "      <td>1.000000</td>\n",
              "      <td>119.000000</td>\n",
              "      <td>7.000000</td>\n",
              "      <td>7.000000</td>\n",
              "    </tr>\n",
              "    <tr>\n",
              "      <th>max</th>\n",
              "      <td>82332.000000</td>\n",
              "      <td>59.999989</td>\n",
              "      <td>10646.000000</td>\n",
              "      <td>11018.000000</td>\n",
              "      <td>1.435577e+07</td>\n",
              "      <td>1.465753e+07</td>\n",
              "      <td>1.000000e+06</td>\n",
              "      <td>255.000000</td>\n",
              "      <td>253.000000</td>\n",
              "      <td>5.268000e+09</td>\n",
              "      <td>...</td>\n",
              "      <td>2.000000</td>\n",
              "      <td>2.000000</td>\n",
              "      <td>16.000000</td>\n",
              "      <td>60.000000</td>\n",
              "      <td>62.000000</td>\n",
              "      <td>1.000000</td>\n",
              "      <td>1.000000</td>\n",
              "      <td>130.000000</td>\n",
              "      <td>12.000000</td>\n",
              "      <td>9.000000</td>\n",
              "    </tr>\n",
              "  </tbody>\n",
              "</table>\n",
              "<p>8 rows × 44 columns</p>\n",
              "</div>\n",
              "      <button class=\"colab-df-convert\" onclick=\"convertToInteractive('df-4f817e49-8ee6-4e3d-8bbb-4a7662f51b60')\"\n",
              "              title=\"Convert this dataframe to an interactive table.\"\n",
              "              style=\"display:none;\">\n",
              "        \n",
              "  <svg xmlns=\"http://www.w3.org/2000/svg\" height=\"24px\"viewBox=\"0 0 24 24\"\n",
              "       width=\"24px\">\n",
              "    <path d=\"M0 0h24v24H0V0z\" fill=\"none\"/>\n",
              "    <path d=\"M18.56 5.44l.94 2.06.94-2.06 2.06-.94-2.06-.94-.94-2.06-.94 2.06-2.06.94zm-11 1L8.5 8.5l.94-2.06 2.06-.94-2.06-.94L8.5 2.5l-.94 2.06-2.06.94zm10 10l.94 2.06.94-2.06 2.06-.94-2.06-.94-.94-2.06-.94 2.06-2.06.94z\"/><path d=\"M17.41 7.96l-1.37-1.37c-.4-.4-.92-.59-1.43-.59-.52 0-1.04.2-1.43.59L10.3 9.45l-7.72 7.72c-.78.78-.78 2.05 0 2.83L4 21.41c.39.39.9.59 1.41.59.51 0 1.02-.2 1.41-.59l7.78-7.78 2.81-2.81c.8-.78.8-2.07 0-2.86zM5.41 20L4 18.59l7.72-7.72 1.47 1.35L5.41 20z\"/>\n",
              "  </svg>\n",
              "      </button>\n",
              "      \n",
              "  <style>\n",
              "    .colab-df-container {\n",
              "      display:flex;\n",
              "      flex-wrap:wrap;\n",
              "      gap: 12px;\n",
              "    }\n",
              "\n",
              "    .colab-df-convert {\n",
              "      background-color: #E8F0FE;\n",
              "      border: none;\n",
              "      border-radius: 50%;\n",
              "      cursor: pointer;\n",
              "      display: none;\n",
              "      fill: #1967D2;\n",
              "      height: 32px;\n",
              "      padding: 0 0 0 0;\n",
              "      width: 32px;\n",
              "    }\n",
              "\n",
              "    .colab-df-convert:hover {\n",
              "      background-color: #E2EBFA;\n",
              "      box-shadow: 0px 1px 2px rgba(60, 64, 67, 0.3), 0px 1px 3px 1px rgba(60, 64, 67, 0.15);\n",
              "      fill: #174EA6;\n",
              "    }\n",
              "\n",
              "    [theme=dark] .colab-df-convert {\n",
              "      background-color: #3B4455;\n",
              "      fill: #D2E3FC;\n",
              "    }\n",
              "\n",
              "    [theme=dark] .colab-df-convert:hover {\n",
              "      background-color: #434B5C;\n",
              "      box-shadow: 0px 1px 3px 1px rgba(0, 0, 0, 0.15);\n",
              "      filter: drop-shadow(0px 1px 2px rgba(0, 0, 0, 0.3));\n",
              "      fill: #FFFFFF;\n",
              "    }\n",
              "  </style>\n",
              "\n",
              "      <script>\n",
              "        const buttonEl =\n",
              "          document.querySelector('#df-4f817e49-8ee6-4e3d-8bbb-4a7662f51b60 button.colab-df-convert');\n",
              "        buttonEl.style.display =\n",
              "          google.colab.kernel.accessAllowed ? 'block' : 'none';\n",
              "\n",
              "        async function convertToInteractive(key) {\n",
              "          const element = document.querySelector('#df-4f817e49-8ee6-4e3d-8bbb-4a7662f51b60');\n",
              "          const dataTable =\n",
              "            await google.colab.kernel.invokeFunction('convertToInteractive',\n",
              "                                                     [key], {});\n",
              "          if (!dataTable) return;\n",
              "\n",
              "          const docLinkHtml = 'Like what you see? Visit the ' +\n",
              "            '<a target=\"_blank\" href=https://colab.research.google.com/notebooks/data_table.ipynb>data table notebook</a>'\n",
              "            + ' to learn more about interactive tables.';\n",
              "          element.innerHTML = '';\n",
              "          dataTable['output_type'] = 'display_data';\n",
              "          await google.colab.output.renderOutput(dataTable, element);\n",
              "          const docLink = document.createElement('div');\n",
              "          docLink.innerHTML = docLinkHtml;\n",
              "          element.appendChild(docLink);\n",
              "        }\n",
              "      </script>\n",
              "    </div>\n",
              "  </div>\n",
              "  "
            ]
          },
          "metadata": {},
          "execution_count": 54
        }
      ],
      "source": [
        "df.describe()"
      ],
      "id": "7303f999"
    },
    {
      "cell_type": "code",
      "execution_count": null,
      "metadata": {
        "id": "b317c12b"
      },
      "outputs": [],
      "source": [
        "std_limit_vals = [\"sbytes\", \"sload\", \"dload\", \"rate\", \"sinpkt\"]"
      ],
      "id": "b317c12b"
    },
    {
      "cell_type": "code",
      "execution_count": null,
      "metadata": {
        "id": "bedbc7a7"
      },
      "outputs": [],
      "source": [
        "import math\n",
        "\n",
        "for feature in std_limit_vals:\n",
        "    arr=[]\n",
        "    for i in df[feature]:\n",
        "        if i==0:\n",
        "            arr.append(0)\n",
        "        else:\n",
        "            arr.append(math.log(i))\n",
        "            \n",
        "    df[\"limited_\"+feature]=arr"
      ],
      "id": "bedbc7a7"
    },
    {
      "cell_type": "code",
      "execution_count": null,
      "metadata": {
        "id": "6fb2bed7"
      },
      "outputs": [],
      "source": [
        "selected_features = [\"limited_sbytes\", \"limited_sload\", \"dmean\", \"ct_dst_sport_ltm\", \"dur\", \"dttl\", \"ct_dst_src_ltm\", \"encoded_proto\", \"ct_src_dport_ltm\", \"limited_dload\", \"dinpkt\", \"ct_src_ltm\", \"tcprtt\", \"smean\", \"dbytes\", \"limited_rate\", \"ct_srv_dst\", \"ct_state_ttl\", \"encoded_service\", \"ct_srv_src\", \"sttl\", \"dpkts\", \"ct_dst_ltm\", \"limited_sinpkt\", \"synack\"]"
      ],
      "id": "6fb2bed7"
    },
    {
      "cell_type": "code",
      "execution_count": null,
      "metadata": {
        "id": "973b4184"
      },
      "outputs": [],
      "source": [
        "filtered_dataset=df[selected_features]"
      ],
      "id": "973b4184"
    },
    {
      "cell_type": "code",
      "execution_count": null,
      "metadata": {
        "colab": {
          "base_uri": "https://localhost:8080/",
          "height": 300
        },
        "id": "5da051ac",
        "outputId": "3a4ecb72-11de-452d-cf5e-f16715e2ff00"
      },
      "outputs": [
        {
          "output_type": "execute_result",
          "data": {
            "text/plain": [
              "   limited_sbytes  limited_sload  dmean  ct_dst_sport_ltm       dur  dttl  \\\n",
              "0        6.206576      19.010486      0                 1  0.000011     0   \n",
              "1        7.474205      20.596568      0                 1  0.000008     0   \n",
              "2        6.973543      20.565910      0                 1  0.000005     0   \n",
              "3        6.802395      20.212440      0                 1  0.000006     0   \n",
              "4        7.661998      20.561217      0                 1  0.000010     0   \n",
              "\n",
              "   ct_dst_src_ltm  encoded_proto  ct_src_dport_ltm  limited_dload  ...  \\\n",
              "0               2            119                 1            0.0  ...   \n",
              "1               2            119                 1            0.0  ...   \n",
              "2               3            119                 1            0.0  ...   \n",
              "3               3            119                 2            0.0  ...   \n",
              "4               3            119                 2            0.0  ...   \n",
              "\n",
              "   limited_rate  ct_srv_dst  ct_state_ttl  encoded_service  ct_srv_src  sttl  \\\n",
              "0     11.417615           2             2                7           2   254   \n",
              "1     11.736069           2             2                7           2   254   \n",
              "2     12.206073           3             2                7           3   254   \n",
              "3     12.023751           3             2                7           3   254   \n",
              "4     11.512925           3             2                7           3   254   \n",
              "\n",
              "   dpkts  ct_dst_ltm  limited_sinpkt  synack  \n",
              "0      0           1       -4.509860     0.0  \n",
              "1      0           1       -4.828314     0.0  \n",
              "2      0           1       -5.298317     0.0  \n",
              "3      0           2       -5.115996     0.0  \n",
              "4      0           2       -4.605170     0.0  \n",
              "\n",
              "[5 rows x 25 columns]"
            ],
            "text/html": [
              "\n",
              "  <div id=\"df-1c235d94-d80a-4420-9b43-620583b130b5\">\n",
              "    <div class=\"colab-df-container\">\n",
              "      <div>\n",
              "<style scoped>\n",
              "    .dataframe tbody tr th:only-of-type {\n",
              "        vertical-align: middle;\n",
              "    }\n",
              "\n",
              "    .dataframe tbody tr th {\n",
              "        vertical-align: top;\n",
              "    }\n",
              "\n",
              "    .dataframe thead th {\n",
              "        text-align: right;\n",
              "    }\n",
              "</style>\n",
              "<table border=\"1\" class=\"dataframe\">\n",
              "  <thead>\n",
              "    <tr style=\"text-align: right;\">\n",
              "      <th></th>\n",
              "      <th>limited_sbytes</th>\n",
              "      <th>limited_sload</th>\n",
              "      <th>dmean</th>\n",
              "      <th>ct_dst_sport_ltm</th>\n",
              "      <th>dur</th>\n",
              "      <th>dttl</th>\n",
              "      <th>ct_dst_src_ltm</th>\n",
              "      <th>encoded_proto</th>\n",
              "      <th>ct_src_dport_ltm</th>\n",
              "      <th>limited_dload</th>\n",
              "      <th>...</th>\n",
              "      <th>limited_rate</th>\n",
              "      <th>ct_srv_dst</th>\n",
              "      <th>ct_state_ttl</th>\n",
              "      <th>encoded_service</th>\n",
              "      <th>ct_srv_src</th>\n",
              "      <th>sttl</th>\n",
              "      <th>dpkts</th>\n",
              "      <th>ct_dst_ltm</th>\n",
              "      <th>limited_sinpkt</th>\n",
              "      <th>synack</th>\n",
              "    </tr>\n",
              "  </thead>\n",
              "  <tbody>\n",
              "    <tr>\n",
              "      <th>0</th>\n",
              "      <td>6.206576</td>\n",
              "      <td>19.010486</td>\n",
              "      <td>0</td>\n",
              "      <td>1</td>\n",
              "      <td>0.000011</td>\n",
              "      <td>0</td>\n",
              "      <td>2</td>\n",
              "      <td>119</td>\n",
              "      <td>1</td>\n",
              "      <td>0.0</td>\n",
              "      <td>...</td>\n",
              "      <td>11.417615</td>\n",
              "      <td>2</td>\n",
              "      <td>2</td>\n",
              "      <td>7</td>\n",
              "      <td>2</td>\n",
              "      <td>254</td>\n",
              "      <td>0</td>\n",
              "      <td>1</td>\n",
              "      <td>-4.509860</td>\n",
              "      <td>0.0</td>\n",
              "    </tr>\n",
              "    <tr>\n",
              "      <th>1</th>\n",
              "      <td>7.474205</td>\n",
              "      <td>20.596568</td>\n",
              "      <td>0</td>\n",
              "      <td>1</td>\n",
              "      <td>0.000008</td>\n",
              "      <td>0</td>\n",
              "      <td>2</td>\n",
              "      <td>119</td>\n",
              "      <td>1</td>\n",
              "      <td>0.0</td>\n",
              "      <td>...</td>\n",
              "      <td>11.736069</td>\n",
              "      <td>2</td>\n",
              "      <td>2</td>\n",
              "      <td>7</td>\n",
              "      <td>2</td>\n",
              "      <td>254</td>\n",
              "      <td>0</td>\n",
              "      <td>1</td>\n",
              "      <td>-4.828314</td>\n",
              "      <td>0.0</td>\n",
              "    </tr>\n",
              "    <tr>\n",
              "      <th>2</th>\n",
              "      <td>6.973543</td>\n",
              "      <td>20.565910</td>\n",
              "      <td>0</td>\n",
              "      <td>1</td>\n",
              "      <td>0.000005</td>\n",
              "      <td>0</td>\n",
              "      <td>3</td>\n",
              "      <td>119</td>\n",
              "      <td>1</td>\n",
              "      <td>0.0</td>\n",
              "      <td>...</td>\n",
              "      <td>12.206073</td>\n",
              "      <td>3</td>\n",
              "      <td>2</td>\n",
              "      <td>7</td>\n",
              "      <td>3</td>\n",
              "      <td>254</td>\n",
              "      <td>0</td>\n",
              "      <td>1</td>\n",
              "      <td>-5.298317</td>\n",
              "      <td>0.0</td>\n",
              "    </tr>\n",
              "    <tr>\n",
              "      <th>3</th>\n",
              "      <td>6.802395</td>\n",
              "      <td>20.212440</td>\n",
              "      <td>0</td>\n",
              "      <td>1</td>\n",
              "      <td>0.000006</td>\n",
              "      <td>0</td>\n",
              "      <td>3</td>\n",
              "      <td>119</td>\n",
              "      <td>2</td>\n",
              "      <td>0.0</td>\n",
              "      <td>...</td>\n",
              "      <td>12.023751</td>\n",
              "      <td>3</td>\n",
              "      <td>2</td>\n",
              "      <td>7</td>\n",
              "      <td>3</td>\n",
              "      <td>254</td>\n",
              "      <td>0</td>\n",
              "      <td>2</td>\n",
              "      <td>-5.115996</td>\n",
              "      <td>0.0</td>\n",
              "    </tr>\n",
              "    <tr>\n",
              "      <th>4</th>\n",
              "      <td>7.661998</td>\n",
              "      <td>20.561217</td>\n",
              "      <td>0</td>\n",
              "      <td>1</td>\n",
              "      <td>0.000010</td>\n",
              "      <td>0</td>\n",
              "      <td>3</td>\n",
              "      <td>119</td>\n",
              "      <td>2</td>\n",
              "      <td>0.0</td>\n",
              "      <td>...</td>\n",
              "      <td>11.512925</td>\n",
              "      <td>3</td>\n",
              "      <td>2</td>\n",
              "      <td>7</td>\n",
              "      <td>3</td>\n",
              "      <td>254</td>\n",
              "      <td>0</td>\n",
              "      <td>2</td>\n",
              "      <td>-4.605170</td>\n",
              "      <td>0.0</td>\n",
              "    </tr>\n",
              "  </tbody>\n",
              "</table>\n",
              "<p>5 rows × 25 columns</p>\n",
              "</div>\n",
              "      <button class=\"colab-df-convert\" onclick=\"convertToInteractive('df-1c235d94-d80a-4420-9b43-620583b130b5')\"\n",
              "              title=\"Convert this dataframe to an interactive table.\"\n",
              "              style=\"display:none;\">\n",
              "        \n",
              "  <svg xmlns=\"http://www.w3.org/2000/svg\" height=\"24px\"viewBox=\"0 0 24 24\"\n",
              "       width=\"24px\">\n",
              "    <path d=\"M0 0h24v24H0V0z\" fill=\"none\"/>\n",
              "    <path d=\"M18.56 5.44l.94 2.06.94-2.06 2.06-.94-2.06-.94-.94-2.06-.94 2.06-2.06.94zm-11 1L8.5 8.5l.94-2.06 2.06-.94-2.06-.94L8.5 2.5l-.94 2.06-2.06.94zm10 10l.94 2.06.94-2.06 2.06-.94-2.06-.94-.94-2.06-.94 2.06-2.06.94z\"/><path d=\"M17.41 7.96l-1.37-1.37c-.4-.4-.92-.59-1.43-.59-.52 0-1.04.2-1.43.59L10.3 9.45l-7.72 7.72c-.78.78-.78 2.05 0 2.83L4 21.41c.39.39.9.59 1.41.59.51 0 1.02-.2 1.41-.59l7.78-7.78 2.81-2.81c.8-.78.8-2.07 0-2.86zM5.41 20L4 18.59l7.72-7.72 1.47 1.35L5.41 20z\"/>\n",
              "  </svg>\n",
              "      </button>\n",
              "      \n",
              "  <style>\n",
              "    .colab-df-container {\n",
              "      display:flex;\n",
              "      flex-wrap:wrap;\n",
              "      gap: 12px;\n",
              "    }\n",
              "\n",
              "    .colab-df-convert {\n",
              "      background-color: #E8F0FE;\n",
              "      border: none;\n",
              "      border-radius: 50%;\n",
              "      cursor: pointer;\n",
              "      display: none;\n",
              "      fill: #1967D2;\n",
              "      height: 32px;\n",
              "      padding: 0 0 0 0;\n",
              "      width: 32px;\n",
              "    }\n",
              "\n",
              "    .colab-df-convert:hover {\n",
              "      background-color: #E2EBFA;\n",
              "      box-shadow: 0px 1px 2px rgba(60, 64, 67, 0.3), 0px 1px 3px 1px rgba(60, 64, 67, 0.15);\n",
              "      fill: #174EA6;\n",
              "    }\n",
              "\n",
              "    [theme=dark] .colab-df-convert {\n",
              "      background-color: #3B4455;\n",
              "      fill: #D2E3FC;\n",
              "    }\n",
              "\n",
              "    [theme=dark] .colab-df-convert:hover {\n",
              "      background-color: #434B5C;\n",
              "      box-shadow: 0px 1px 3px 1px rgba(0, 0, 0, 0.15);\n",
              "      filter: drop-shadow(0px 1px 2px rgba(0, 0, 0, 0.3));\n",
              "      fill: #FFFFFF;\n",
              "    }\n",
              "  </style>\n",
              "\n",
              "      <script>\n",
              "        const buttonEl =\n",
              "          document.querySelector('#df-1c235d94-d80a-4420-9b43-620583b130b5 button.colab-df-convert');\n",
              "        buttonEl.style.display =\n",
              "          google.colab.kernel.accessAllowed ? 'block' : 'none';\n",
              "\n",
              "        async function convertToInteractive(key) {\n",
              "          const element = document.querySelector('#df-1c235d94-d80a-4420-9b43-620583b130b5');\n",
              "          const dataTable =\n",
              "            await google.colab.kernel.invokeFunction('convertToInteractive',\n",
              "                                                     [key], {});\n",
              "          if (!dataTable) return;\n",
              "\n",
              "          const docLinkHtml = 'Like what you see? Visit the ' +\n",
              "            '<a target=\"_blank\" href=https://colab.research.google.com/notebooks/data_table.ipynb>data table notebook</a>'\n",
              "            + ' to learn more about interactive tables.';\n",
              "          element.innerHTML = '';\n",
              "          dataTable['output_type'] = 'display_data';\n",
              "          await google.colab.output.renderOutput(dataTable, element);\n",
              "          const docLink = document.createElement('div');\n",
              "          docLink.innerHTML = docLinkHtml;\n",
              "          element.appendChild(docLink);\n",
              "        }\n",
              "      </script>\n",
              "    </div>\n",
              "  </div>\n",
              "  "
            ]
          },
          "metadata": {},
          "execution_count": 59
        }
      ],
      "source": [
        "filtered_dataset.head()"
      ],
      "id": "5da051ac"
    },
    {
      "cell_type": "code",
      "execution_count": null,
      "metadata": {
        "colab": {
          "base_uri": "https://localhost:8080/",
          "height": 394
        },
        "id": "276c5cdc",
        "outputId": "07b26654-7620-460c-898b-6fe944ba327c"
      },
      "outputs": [
        {
          "output_type": "execute_result",
          "data": {
            "text/plain": [
              "       limited_sbytes  limited_sload         dmean  ct_dst_sport_ltm  \\\n",
              "count    82332.000000   82332.000000  82332.000000      82332.000000   \n",
              "mean         6.310668      13.583649    116.275069          3.663011   \n",
              "std          1.616872       4.550029    244.600271          5.915386   \n",
              "min          3.178054       0.000000      0.000000          1.000000   \n",
              "25%          4.736198       9.323889      0.000000          1.000000   \n",
              "50%          6.280396      13.265603     44.000000          1.000000   \n",
              "75%          7.154615      17.992093     87.000000          3.000000   \n",
              "max         16.479663      22.384917   1500.000000         38.000000   \n",
              "\n",
              "                dur          dttl  ct_dst_src_ltm  encoded_proto  \\\n",
              "count  82332.000000  82332.000000    82332.000000   82332.000000   \n",
              "mean       1.006756     95.713003        7.456360      88.418792   \n",
              "std        4.710444    116.667722       11.415191      27.747559   \n",
              "min        0.000000      0.000000        1.000000       0.000000   \n",
              "25%        0.000008      0.000000        1.000000      70.000000   \n",
              "50%        0.014138     29.000000        3.000000      70.000000   \n",
              "75%        0.719360    252.000000        6.000000     119.000000   \n",
              "max       59.999989    253.000000       63.000000     130.000000   \n",
              "\n",
              "       ct_src_dport_ltm  limited_dload  ...  limited_rate    ct_srv_dst  \\\n",
              "count      82332.000000   82332.000000  ...  82332.000000  82332.000000   \n",
              "mean           4.928898       5.845969  ...      7.463143      9.164262   \n",
              "std            8.389545       5.593160  ...      4.182790     11.121413   \n",
              "min            1.000000       0.000000  ...     -4.094325      1.000000   \n",
              "25%            1.000000       0.000000  ...      3.353620      2.000000   \n",
              "50%            1.000000       7.655841  ...      7.882382      5.000000   \n",
              "75%            4.000000       9.671435  ...     11.618286     11.000000   \n",
              "max           59.000000      16.851478  ...     13.815511     62.000000   \n",
              "\n",
              "       ct_state_ttl  encoded_service    ct_srv_src          sttl  \\\n",
              "count  82332.000000     82332.000000  82332.000000  82332.000000   \n",
              "mean       1.369273         5.857637      9.546604    180.967667   \n",
              "std        1.067188         2.410211     11.090289    101.513358   \n",
              "min        0.000000         0.000000      1.000000      0.000000   \n",
              "25%        1.000000         2.000000      2.000000     62.000000   \n",
              "50%        1.000000         7.000000      5.000000    254.000000   \n",
              "75%        2.000000         7.000000     11.000000    254.000000   \n",
              "max        6.000000        12.000000     63.000000    255.000000   \n",
              "\n",
              "              dpkts    ct_dst_ltm  limited_sinpkt        synack  \n",
              "count  82332.000000  82332.000000    82332.000000  82332.000000  \n",
              "mean      17.545936      5.744923       -0.343692      0.029256  \n",
              "std      115.574086      8.418112        4.621786      0.070854  \n",
              "min        0.000000      1.000000       -6.907755      0.000000  \n",
              "25%        0.000000      1.000000       -4.828314      0.000000  \n",
              "50%        2.000000      2.000000       -0.531182      0.000441  \n",
              "75%       10.000000      6.000000        4.149613      0.052596  \n",
              "max    11018.000000     59.000000       11.002266      3.226788  \n",
              "\n",
              "[8 rows x 25 columns]"
            ],
            "text/html": [
              "\n",
              "  <div id=\"df-4a5ef3bd-6178-4b4e-920e-9688f92dbf6b\">\n",
              "    <div class=\"colab-df-container\">\n",
              "      <div>\n",
              "<style scoped>\n",
              "    .dataframe tbody tr th:only-of-type {\n",
              "        vertical-align: middle;\n",
              "    }\n",
              "\n",
              "    .dataframe tbody tr th {\n",
              "        vertical-align: top;\n",
              "    }\n",
              "\n",
              "    .dataframe thead th {\n",
              "        text-align: right;\n",
              "    }\n",
              "</style>\n",
              "<table border=\"1\" class=\"dataframe\">\n",
              "  <thead>\n",
              "    <tr style=\"text-align: right;\">\n",
              "      <th></th>\n",
              "      <th>limited_sbytes</th>\n",
              "      <th>limited_sload</th>\n",
              "      <th>dmean</th>\n",
              "      <th>ct_dst_sport_ltm</th>\n",
              "      <th>dur</th>\n",
              "      <th>dttl</th>\n",
              "      <th>ct_dst_src_ltm</th>\n",
              "      <th>encoded_proto</th>\n",
              "      <th>ct_src_dport_ltm</th>\n",
              "      <th>limited_dload</th>\n",
              "      <th>...</th>\n",
              "      <th>limited_rate</th>\n",
              "      <th>ct_srv_dst</th>\n",
              "      <th>ct_state_ttl</th>\n",
              "      <th>encoded_service</th>\n",
              "      <th>ct_srv_src</th>\n",
              "      <th>sttl</th>\n",
              "      <th>dpkts</th>\n",
              "      <th>ct_dst_ltm</th>\n",
              "      <th>limited_sinpkt</th>\n",
              "      <th>synack</th>\n",
              "    </tr>\n",
              "  </thead>\n",
              "  <tbody>\n",
              "    <tr>\n",
              "      <th>count</th>\n",
              "      <td>82332.000000</td>\n",
              "      <td>82332.000000</td>\n",
              "      <td>82332.000000</td>\n",
              "      <td>82332.000000</td>\n",
              "      <td>82332.000000</td>\n",
              "      <td>82332.000000</td>\n",
              "      <td>82332.000000</td>\n",
              "      <td>82332.000000</td>\n",
              "      <td>82332.000000</td>\n",
              "      <td>82332.000000</td>\n",
              "      <td>...</td>\n",
              "      <td>82332.000000</td>\n",
              "      <td>82332.000000</td>\n",
              "      <td>82332.000000</td>\n",
              "      <td>82332.000000</td>\n",
              "      <td>82332.000000</td>\n",
              "      <td>82332.000000</td>\n",
              "      <td>82332.000000</td>\n",
              "      <td>82332.000000</td>\n",
              "      <td>82332.000000</td>\n",
              "      <td>82332.000000</td>\n",
              "    </tr>\n",
              "    <tr>\n",
              "      <th>mean</th>\n",
              "      <td>6.310668</td>\n",
              "      <td>13.583649</td>\n",
              "      <td>116.275069</td>\n",
              "      <td>3.663011</td>\n",
              "      <td>1.006756</td>\n",
              "      <td>95.713003</td>\n",
              "      <td>7.456360</td>\n",
              "      <td>88.418792</td>\n",
              "      <td>4.928898</td>\n",
              "      <td>5.845969</td>\n",
              "      <td>...</td>\n",
              "      <td>7.463143</td>\n",
              "      <td>9.164262</td>\n",
              "      <td>1.369273</td>\n",
              "      <td>5.857637</td>\n",
              "      <td>9.546604</td>\n",
              "      <td>180.967667</td>\n",
              "      <td>17.545936</td>\n",
              "      <td>5.744923</td>\n",
              "      <td>-0.343692</td>\n",
              "      <td>0.029256</td>\n",
              "    </tr>\n",
              "    <tr>\n",
              "      <th>std</th>\n",
              "      <td>1.616872</td>\n",
              "      <td>4.550029</td>\n",
              "      <td>244.600271</td>\n",
              "      <td>5.915386</td>\n",
              "      <td>4.710444</td>\n",
              "      <td>116.667722</td>\n",
              "      <td>11.415191</td>\n",
              "      <td>27.747559</td>\n",
              "      <td>8.389545</td>\n",
              "      <td>5.593160</td>\n",
              "      <td>...</td>\n",
              "      <td>4.182790</td>\n",
              "      <td>11.121413</td>\n",
              "      <td>1.067188</td>\n",
              "      <td>2.410211</td>\n",
              "      <td>11.090289</td>\n",
              "      <td>101.513358</td>\n",
              "      <td>115.574086</td>\n",
              "      <td>8.418112</td>\n",
              "      <td>4.621786</td>\n",
              "      <td>0.070854</td>\n",
              "    </tr>\n",
              "    <tr>\n",
              "      <th>min</th>\n",
              "      <td>3.178054</td>\n",
              "      <td>0.000000</td>\n",
              "      <td>0.000000</td>\n",
              "      <td>1.000000</td>\n",
              "      <td>0.000000</td>\n",
              "      <td>0.000000</td>\n",
              "      <td>1.000000</td>\n",
              "      <td>0.000000</td>\n",
              "      <td>1.000000</td>\n",
              "      <td>0.000000</td>\n",
              "      <td>...</td>\n",
              "      <td>-4.094325</td>\n",
              "      <td>1.000000</td>\n",
              "      <td>0.000000</td>\n",
              "      <td>0.000000</td>\n",
              "      <td>1.000000</td>\n",
              "      <td>0.000000</td>\n",
              "      <td>0.000000</td>\n",
              "      <td>1.000000</td>\n",
              "      <td>-6.907755</td>\n",
              "      <td>0.000000</td>\n",
              "    </tr>\n",
              "    <tr>\n",
              "      <th>25%</th>\n",
              "      <td>4.736198</td>\n",
              "      <td>9.323889</td>\n",
              "      <td>0.000000</td>\n",
              "      <td>1.000000</td>\n",
              "      <td>0.000008</td>\n",
              "      <td>0.000000</td>\n",
              "      <td>1.000000</td>\n",
              "      <td>70.000000</td>\n",
              "      <td>1.000000</td>\n",
              "      <td>0.000000</td>\n",
              "      <td>...</td>\n",
              "      <td>3.353620</td>\n",
              "      <td>2.000000</td>\n",
              "      <td>1.000000</td>\n",
              "      <td>2.000000</td>\n",
              "      <td>2.000000</td>\n",
              "      <td>62.000000</td>\n",
              "      <td>0.000000</td>\n",
              "      <td>1.000000</td>\n",
              "      <td>-4.828314</td>\n",
              "      <td>0.000000</td>\n",
              "    </tr>\n",
              "    <tr>\n",
              "      <th>50%</th>\n",
              "      <td>6.280396</td>\n",
              "      <td>13.265603</td>\n",
              "      <td>44.000000</td>\n",
              "      <td>1.000000</td>\n",
              "      <td>0.014138</td>\n",
              "      <td>29.000000</td>\n",
              "      <td>3.000000</td>\n",
              "      <td>70.000000</td>\n",
              "      <td>1.000000</td>\n",
              "      <td>7.655841</td>\n",
              "      <td>...</td>\n",
              "      <td>7.882382</td>\n",
              "      <td>5.000000</td>\n",
              "      <td>1.000000</td>\n",
              "      <td>7.000000</td>\n",
              "      <td>5.000000</td>\n",
              "      <td>254.000000</td>\n",
              "      <td>2.000000</td>\n",
              "      <td>2.000000</td>\n",
              "      <td>-0.531182</td>\n",
              "      <td>0.000441</td>\n",
              "    </tr>\n",
              "    <tr>\n",
              "      <th>75%</th>\n",
              "      <td>7.154615</td>\n",
              "      <td>17.992093</td>\n",
              "      <td>87.000000</td>\n",
              "      <td>3.000000</td>\n",
              "      <td>0.719360</td>\n",
              "      <td>252.000000</td>\n",
              "      <td>6.000000</td>\n",
              "      <td>119.000000</td>\n",
              "      <td>4.000000</td>\n",
              "      <td>9.671435</td>\n",
              "      <td>...</td>\n",
              "      <td>11.618286</td>\n",
              "      <td>11.000000</td>\n",
              "      <td>2.000000</td>\n",
              "      <td>7.000000</td>\n",
              "      <td>11.000000</td>\n",
              "      <td>254.000000</td>\n",
              "      <td>10.000000</td>\n",
              "      <td>6.000000</td>\n",
              "      <td>4.149613</td>\n",
              "      <td>0.052596</td>\n",
              "    </tr>\n",
              "    <tr>\n",
              "      <th>max</th>\n",
              "      <td>16.479663</td>\n",
              "      <td>22.384917</td>\n",
              "      <td>1500.000000</td>\n",
              "      <td>38.000000</td>\n",
              "      <td>59.999989</td>\n",
              "      <td>253.000000</td>\n",
              "      <td>63.000000</td>\n",
              "      <td>130.000000</td>\n",
              "      <td>59.000000</td>\n",
              "      <td>16.851478</td>\n",
              "      <td>...</td>\n",
              "      <td>13.815511</td>\n",
              "      <td>62.000000</td>\n",
              "      <td>6.000000</td>\n",
              "      <td>12.000000</td>\n",
              "      <td>63.000000</td>\n",
              "      <td>255.000000</td>\n",
              "      <td>11018.000000</td>\n",
              "      <td>59.000000</td>\n",
              "      <td>11.002266</td>\n",
              "      <td>3.226788</td>\n",
              "    </tr>\n",
              "  </tbody>\n",
              "</table>\n",
              "<p>8 rows × 25 columns</p>\n",
              "</div>\n",
              "      <button class=\"colab-df-convert\" onclick=\"convertToInteractive('df-4a5ef3bd-6178-4b4e-920e-9688f92dbf6b')\"\n",
              "              title=\"Convert this dataframe to an interactive table.\"\n",
              "              style=\"display:none;\">\n",
              "        \n",
              "  <svg xmlns=\"http://www.w3.org/2000/svg\" height=\"24px\"viewBox=\"0 0 24 24\"\n",
              "       width=\"24px\">\n",
              "    <path d=\"M0 0h24v24H0V0z\" fill=\"none\"/>\n",
              "    <path d=\"M18.56 5.44l.94 2.06.94-2.06 2.06-.94-2.06-.94-.94-2.06-.94 2.06-2.06.94zm-11 1L8.5 8.5l.94-2.06 2.06-.94-2.06-.94L8.5 2.5l-.94 2.06-2.06.94zm10 10l.94 2.06.94-2.06 2.06-.94-2.06-.94-.94-2.06-.94 2.06-2.06.94z\"/><path d=\"M17.41 7.96l-1.37-1.37c-.4-.4-.92-.59-1.43-.59-.52 0-1.04.2-1.43.59L10.3 9.45l-7.72 7.72c-.78.78-.78 2.05 0 2.83L4 21.41c.39.39.9.59 1.41.59.51 0 1.02-.2 1.41-.59l7.78-7.78 2.81-2.81c.8-.78.8-2.07 0-2.86zM5.41 20L4 18.59l7.72-7.72 1.47 1.35L5.41 20z\"/>\n",
              "  </svg>\n",
              "      </button>\n",
              "      \n",
              "  <style>\n",
              "    .colab-df-container {\n",
              "      display:flex;\n",
              "      flex-wrap:wrap;\n",
              "      gap: 12px;\n",
              "    }\n",
              "\n",
              "    .colab-df-convert {\n",
              "      background-color: #E8F0FE;\n",
              "      border: none;\n",
              "      border-radius: 50%;\n",
              "      cursor: pointer;\n",
              "      display: none;\n",
              "      fill: #1967D2;\n",
              "      height: 32px;\n",
              "      padding: 0 0 0 0;\n",
              "      width: 32px;\n",
              "    }\n",
              "\n",
              "    .colab-df-convert:hover {\n",
              "      background-color: #E2EBFA;\n",
              "      box-shadow: 0px 1px 2px rgba(60, 64, 67, 0.3), 0px 1px 3px 1px rgba(60, 64, 67, 0.15);\n",
              "      fill: #174EA6;\n",
              "    }\n",
              "\n",
              "    [theme=dark] .colab-df-convert {\n",
              "      background-color: #3B4455;\n",
              "      fill: #D2E3FC;\n",
              "    }\n",
              "\n",
              "    [theme=dark] .colab-df-convert:hover {\n",
              "      background-color: #434B5C;\n",
              "      box-shadow: 0px 1px 3px 1px rgba(0, 0, 0, 0.15);\n",
              "      filter: drop-shadow(0px 1px 2px rgba(0, 0, 0, 0.3));\n",
              "      fill: #FFFFFF;\n",
              "    }\n",
              "  </style>\n",
              "\n",
              "      <script>\n",
              "        const buttonEl =\n",
              "          document.querySelector('#df-4a5ef3bd-6178-4b4e-920e-9688f92dbf6b button.colab-df-convert');\n",
              "        buttonEl.style.display =\n",
              "          google.colab.kernel.accessAllowed ? 'block' : 'none';\n",
              "\n",
              "        async function convertToInteractive(key) {\n",
              "          const element = document.querySelector('#df-4a5ef3bd-6178-4b4e-920e-9688f92dbf6b');\n",
              "          const dataTable =\n",
              "            await google.colab.kernel.invokeFunction('convertToInteractive',\n",
              "                                                     [key], {});\n",
              "          if (!dataTable) return;\n",
              "\n",
              "          const docLinkHtml = 'Like what you see? Visit the ' +\n",
              "            '<a target=\"_blank\" href=https://colab.research.google.com/notebooks/data_table.ipynb>data table notebook</a>'\n",
              "            + ' to learn more about interactive tables.';\n",
              "          element.innerHTML = '';\n",
              "          dataTable['output_type'] = 'display_data';\n",
              "          await google.colab.output.renderOutput(dataTable, element);\n",
              "          const docLink = document.createElement('div');\n",
              "          docLink.innerHTML = docLinkHtml;\n",
              "          element.appendChild(docLink);\n",
              "        }\n",
              "      </script>\n",
              "    </div>\n",
              "  </div>\n",
              "  "
            ]
          },
          "metadata": {},
          "execution_count": 60
        }
      ],
      "source": [
        "filtered_dataset.describe()"
      ],
      "id": "276c5cdc"
    },
    {
      "cell_type": "code",
      "execution_count": null,
      "metadata": {
        "id": "88c8bc0c"
      },
      "outputs": [],
      "source": [
        "X=np.array(filtered_dataset)\n",
        "Y=np.array(df[\"encoded_attack_cat\"])"
      ],
      "id": "88c8bc0c"
    },
    {
      "cell_type": "code",
      "execution_count": null,
      "metadata": {
        "id": "c0323a7e"
      },
      "outputs": [],
      "source": [
        "from sklearn.metrics import precision_score, recall_score\n",
        "from sklearn.model_selection import train_test_split\n",
        "from sklearn.metrics import confusion_matrix, ConfusionMatrixDisplay\n",
        "\n",
        "X_train, X_test, Y_train, Y_test = train_test_split(np.array(X), np.array(Y), test_size=0.05)"
      ],
      "id": "c0323a7e"
    },
    {
      "cell_type": "markdown",
      "metadata": {
        "id": "9c5cb670"
      },
      "source": [
        "## Logistic Regression (LR)"
      ],
      "id": "9c5cb670"
    },
    {
      "cell_type": "code",
      "execution_count": null,
      "metadata": {
        "colab": {
          "base_uri": "https://localhost:8080/"
        },
        "id": "7a1d4bf2",
        "outputId": "ef7f3497-d9ca-426a-8115-63982a797d3a"
      },
      "outputs": [
        {
          "output_type": "stream",
          "name": "stderr",
          "text": [
            "/usr/local/lib/python3.7/dist-packages/sklearn/linear_model/_logistic.py:818: ConvergenceWarning: lbfgs failed to converge (status=1):\n",
            "STOP: TOTAL NO. of ITERATIONS REACHED LIMIT.\n",
            "\n",
            "Increase the number of iterations (max_iter) or scale the data as shown in:\n",
            "    https://scikit-learn.org/stable/modules/preprocessing.html\n",
            "Please also refer to the documentation for alternative solver options:\n",
            "    https://scikit-learn.org/stable/modules/linear_model.html#logistic-regression\n",
            "  extra_warning_msg=_LOGISTIC_SOLVER_CONVERGENCE_MSG,\n"
          ]
        },
        {
          "output_type": "execute_result",
          "data": {
            "text/plain": [
              "LogisticRegression()"
            ]
          },
          "metadata": {},
          "execution_count": 63
        }
      ],
      "source": [
        "from sklearn.linear_model import LogisticRegression\n",
        "\n",
        "log_reg=LogisticRegression()\n",
        "log_reg.fit(X_train, Y_train)"
      ],
      "id": "7a1d4bf2"
    },
    {
      "cell_type": "code",
      "execution_count": null,
      "metadata": {
        "colab": {
          "base_uri": "https://localhost:8080/"
        },
        "id": "f6433ae3",
        "outputId": "dc658106-3960-4d01-9072-692f7c997b48"
      },
      "outputs": [
        {
          "output_type": "stream",
          "name": "stdout",
          "text": [
            "Accuracy of Logistic Regression Model: 0.6191401505950935\n",
            "Precision Score of Logistic Regression Model: 0.6191401505950935\n",
            "Recall Score of Logistic Regression Model: 0.6191401505950935\n"
          ]
        }
      ],
      "source": [
        "Y_pred = log_reg.predict(X_test)\n",
        "\n",
        "print(\"Accuracy of Logistic Regression Model:\", log_reg.score(X_test, Y_test))\n",
        "print(\"Precision Score of Logistic Regression Model:\", precision_score(Y_test, Y_pred, average=\"micro\"))\n",
        "print(\"Recall Score of Logistic Regression Model:\", recall_score(Y_test, Y_pred, average=\"micro\"))"
      ],
      "id": "f6433ae3"
    },
    {
      "cell_type": "code",
      "execution_count": null,
      "metadata": {
        "colab": {
          "base_uri": "https://localhost:8080/",
          "height": 870
        },
        "id": "6607ba73",
        "outputId": "06c72617-08bc-453a-ed30-d94bfb9850e5"
      },
      "outputs": [
        {
          "output_type": "execute_result",
          "data": {
            "text/plain": [
              "<sklearn.metrics._plot.confusion_matrix.ConfusionMatrixDisplay at 0x7f67584ad150>"
            ]
          },
          "metadata": {},
          "execution_count": 65
        },
        {
          "output_type": "display_data",
          "data": {
            "text/plain": [
              "<Figure size 1080x1080 with 2 Axes>"
            ],
            "image/png": "[encoded data removed]"
          },
          "metadata": {
            "needs_background": "light"
          }
        }
      ],
      "source": [
        "cm = confusion_matrix(Y_test, Y_pred)\n",
        "ConfusionMatrixDisplay(confusion_matrix=cm, display_labels=feature_class_attack_cat).plot()"
      ],
      "id": "6607ba73"
    },
    {
      "cell_type": "markdown",
      "metadata": {
        "id": "94a08205"
      },
      "source": [
        "## Support Vector Machine (SVM)"
      ],
      "id": "94a08205"
    },
    {
      "cell_type": "code",
      "execution_count": null,
      "metadata": {
        "colab": {
          "base_uri": "https://localhost:8080/"
        },
        "id": "5ed40173",
        "outputId": "cefb4961-3ae7-4c9c-c957-4c69411871c9"
      },
      "outputs": [
        {
          "output_type": "execute_result",
          "data": {
            "text/plain": [
              "SVC()"
            ]
          },
          "metadata": {},
          "execution_count": 66
        }
      ],
      "source": [
        "from sklearn.svm import SVC\n",
        "\n",
        "svm_model=SVC()\n",
        "svm_model.fit(X_train, Y_train)"
      ],
      "id": "5ed40173"
    },
    {
      "cell_type": "code",
      "execution_count": null,
      "metadata": {
        "colab": {
          "base_uri": "https://localhost:8080/"
        },
        "id": "3aba290a",
        "outputId": "f4e8e290-21bc-43b9-e691-07a873806fb0"
      },
      "outputs": [
        {
          "output_type": "stream",
          "name": "stdout",
          "text": [
            "Accuracy of Support Vector Machine Model: 0.45324265241680833\n",
            "Precision Score of Support Vector Machine Model: 0.45324265241680833\n",
            "Recall Score of Support Vector Machine Model: 0.45324265241680833\n"
          ]
        }
      ],
      "source": [
        "Y_pred = svm_model.predict(X_test)\n",
        "\n",
        "print(\"Accuracy of Support Vector Machine Model:\", svm_model.score(X_test, Y_test))\n",
        "print(\"Precision Score of Support Vector Machine Model:\", precision_score(Y_test, Y_pred,average=\"micro\"))\n",
        "print(\"Recall Score of Support Vector Machine Model:\", recall_score(Y_test, Y_pred,average=\"micro\"))"
      ],
      "id": "3aba290a"
    },
    {
      "cell_type": "code",
      "execution_count": null,
      "metadata": {
        "colab": {
          "base_uri": "https://localhost:8080/",
          "height": 870
        },
        "id": "a50ededd",
        "outputId": "f4c1fde3-81dd-474e-ff3b-15cf680466cd"
      },
      "outputs": [
        {
          "output_type": "execute_result",
          "data": {
            "text/plain": [
              "<sklearn.metrics._plot.confusion_matrix.ConfusionMatrixDisplay at 0x7f686871ee90>"
            ]
          },
          "metadata": {},
          "execution_count": 68
        },
        {
          "output_type": "display_data",
          "data": {
            "text/plain": [
              "<Figure size 1080x1080 with 2 Axes>"
            ],
            "image/png": "[encoded data removed]"
          },
          "metadata": {
            "needs_background": "light"
          }
        }
      ],
      "source": [
        "cm = confusion_matrix(Y_test, Y_pred)\n",
        "ConfusionMatrixDisplay(confusion_matrix=cm, display_labels=feature_class_attack_cat).plot()"
      ],
      "id": "a50ededd"
    },
    {
      "cell_type": "markdown",
      "metadata": {
        "id": "5cbd1ffa"
      },
      "source": [
        "## Decision Tree Classfier (DT)"
      ],
      "id": "5cbd1ffa"
    },
    {
      "cell_type": "code",
      "execution_count": null,
      "metadata": {
        "colab": {
          "base_uri": "https://localhost:8080/"
        },
        "id": "a6211f16",
        "outputId": "a6a65b98-adcd-4346-b10e-b3351e0b6ffb"
      },
      "outputs": [
        {
          "output_type": "execute_result",
          "data": {
            "text/plain": [
              "DecisionTreeClassifier()"
            ]
          },
          "metadata": {},
          "execution_count": 69
        }
      ],
      "source": [
        "from sklearn import tree\n",
        "\n",
        "dtc=tree.DecisionTreeClassifier()\n",
        "dtc.fit(X_train, Y_train)"
      ],
      "id": "a6211f16"
    },
    {
      "cell_type": "code",
      "execution_count": null,
      "metadata": {
        "colab": {
          "base_uri": "https://localhost:8080/"
        },
        "id": "a3c8caeb",
        "outputId": "5a2c6b86-7148-4961-ff0c-4ed96cd3da54"
      },
      "outputs": [
        {
          "output_type": "stream",
          "name": "stdout",
          "text": [
            "Accuracy of Decision Tree Classifier Model: 0.8496478017974253\n",
            "Precision Score of Decision Tree Classifier Model: 0.8496478017974253\n",
            "Recall Score of Decision Tree Classifier Model: 0.8496478017974253\n"
          ]
        }
      ],
      "source": [
        "Y_pred = dtc.predict(X_test)\n",
        "\n",
        "print(\"Accuracy of Decision Tree Classifier Model:\", dtc.score(X_test, Y_test))\n",
        "print(\"Precision Score of Decision Tree Classifier Model:\", precision_score(Y_test, Y_pred,average=\"micro\"))\n",
        "print(\"Recall Score of Decision Tree Classifier Model:\", recall_score(Y_test, Y_pred,average=\"micro\"))"
      ],
      "id": "a3c8caeb"
    },
    {
      "cell_type": "code",
      "execution_count": null,
      "metadata": {
        "colab": {
          "base_uri": "https://localhost:8080/",
          "height": 870
        },
        "id": "d28d1fb6",
        "outputId": "a890711b-caf7-4d0d-de04-514b1e16f846"
      },
      "outputs": [
        {
          "output_type": "execute_result",
          "data": {
            "text/plain": [
              "<sklearn.metrics._plot.confusion_matrix.ConfusionMatrixDisplay at 0x7f6868809490>"
            ]
          },
          "metadata": {},
          "execution_count": 71
        },
        {
          "output_type": "display_data",
          "data": {
            "text/plain": [
              "<Figure size 1080x1080 with 2 Axes>"
            ],
            "image/png": "[encoded data removed]"
          },
          "metadata": {
            "needs_background": "light"
          }
        }
      ],
      "source": [
        "cm = confusion_matrix(Y_test, Y_pred)\n",
        "ConfusionMatrixDisplay(confusion_matrix=cm, display_labels=feature_class_attack_cat).plot()"
      ],
      "id": "d28d1fb6"
    },
    {
      "cell_type": "markdown",
      "metadata": {
        "id": "2566b522"
      },
      "source": [
        "## Random Forest Classifier (RF)"
      ],
      "id": "2566b522"
    },
    {
      "cell_type": "code",
      "execution_count": null,
      "metadata": {
        "colab": {
          "base_uri": "https://localhost:8080/"
        },
        "id": "d85591f7",
        "outputId": "ab111b02-abc4-4fbd-eb1b-f13b8ee263a4"
      },
      "outputs": [
        {
          "output_type": "execute_result",
          "data": {
            "text/plain": [
              "RandomForestClassifier()"
            ]
          },
          "metadata": {},
          "execution_count": 72
        }
      ],
      "source": [
        "from sklearn.ensemble import RandomForestClassifier\n",
        "\n",
        "rf=RandomForestClassifier()\n",
        "rf.fit(X_train, Y_train)"
      ],
      "id": "d85591f7"
    },
    {
      "cell_type": "code",
      "execution_count": null,
      "metadata": {
        "colab": {
          "base_uri": "https://localhost:8080/"
        },
        "id": "88f29fb5",
        "outputId": "611063e7-d0ce-4645-8b4d-5ce996b6bbcf"
      },
      "outputs": [
        {
          "output_type": "stream",
          "name": "stdout",
          "text": [
            "Accuracy of Random Forest Classifier Model: 0.8656788923973767\n",
            "Precision Score of Random Forest Classifier Model: 0.8656788923973767\n",
            "Recall Score of Random Forest Classifier Model: 0.8656788923973767\n"
          ]
        }
      ],
      "source": [
        "Y_pred = rf.predict(X_test)\n",
        "\n",
        "print(\"Accuracy of Random Forest Classifier Model:\", rf.score(X_test, Y_test))\n",
        "print(\"Precision Score of Random Forest Classifier Model:\", precision_score(Y_test, Y_pred,average=\"micro\"))\n",
        "print(\"Recall Score of Random Forest Classifier Model:\", recall_score(Y_test, Y_pred,average=\"micro\"))"
      ],
      "id": "88f29fb5"
    },
    {
      "cell_type": "code",
      "execution_count": null,
      "metadata": {
        "colab": {
          "base_uri": "https://localhost:8080/",
          "height": 870
        },
        "id": "d2d47e59",
        "outputId": "ebf0319d-748d-4984-cb6c-ef1bb9fd86a3"
      },
      "outputs": [
        {
          "output_type": "execute_result",
          "data": {
            "text/plain": [
              "<sklearn.metrics._plot.confusion_matrix.ConfusionMatrixDisplay at 0x7f674dd8bcd0>"
            ]
          },
          "metadata": {},
          "execution_count": 74
        },
        {
          "output_type": "display_data",
          "data": {
            "text/plain": [
              "<Figure size 1080x1080 with 2 Axes>"
            ],
            "image/png": "[encoded data removed]"
          },
          "metadata": {
            "needs_background": "light"
          }
        }
      ],
      "source": [
        "cm = confusion_matrix(Y_test, Y_pred)\n",
        "ConfusionMatrixDisplay(confusion_matrix=cm, display_labels=feature_class_attack_cat).plot()"
      ],
      "id": "d2d47e59"
    },
    {
      "cell_type": "markdown",
      "metadata": {
        "id": "d62870e3"
      },
      "source": [
        "## Artificial Neural Network (ANN)"
      ],
      "id": "d62870e3"
    },
    {
      "cell_type": "code",
      "execution_count": null,
      "metadata": {
        "colab": {
          "base_uri": "https://localhost:8080/"
        },
        "id": "5885d601",
        "outputId": "cfce4da5-087d-4443-ccf9-e023807fecd6"
      },
      "outputs": [
        {
          "output_type": "stream",
          "name": "stdout",
          "text": [
            "Model: \"sequential_1\"\n",
            "_________________________________________________________________\n",
            " Layer (type)                Output Shape              Param #   \n",
            "=================================================================\n",
            " dense_3 (Dense)             (None, 256)               6656      \n",
            "                                                                 \n",
            " dropout_2 (Dropout)         (None, 256)               0         \n",
            "                                                                 \n",
            " dense_4 (Dense)             (None, 64)                16448     \n",
            "                                                                 \n",
            " dropout_3 (Dropout)         (None, 64)                0         \n",
            "                                                                 \n",
            " dense_5 (Dense)             (None, 10)                650       \n",
            "                                                                 \n",
            "=================================================================\n",
            "Total params: 23,754\n",
            "Trainable params: 23,754\n",
            "Non-trainable params: 0\n",
            "_________________________________________________________________\n"
          ]
        }
      ],
      "source": [
        "from tensorflow.keras.models import Sequential\n",
        "from tensorflow.keras.layers import Dense, Activation, Dropout\n",
        "\n",
        "ann=Sequential()\n",
        "ann.add(Dense(256, input_shape=(len(X_train[0]),), activation=\"relu\"))\n",
        "ann.add(Dropout(0.5))\n",
        "ann.add(Dense(64, activation=\"relu\"))\n",
        "ann.add(Dropout(0.5))\n",
        "ann.add(Dense(len(set(Y_train)), activation=\"softmax\"))\n",
        "\n",
        "ann.summary()"
      ],
      "id": "5885d601"
    },
    {
      "cell_type": "code",
      "execution_count": null,
      "metadata": {
        "colab": {
          "base_uri": "https://localhost:8080/"
        },
        "id": "68b89a03",
        "outputId": "31c0c256-5758-4e75-c15b-140ed4a8063e"
      },
      "outputs": [
        {
          "output_type": "stream",
          "name": "stdout",
          "text": [
            "Epoch 1/20\n",
            "2445/2445 [==============================] - 7s 3ms/step - loss: 137.8586 - accuracy: 0.5344 - val_loss: 1.2161 - val_accuracy: 0.6204\n",
            "Epoch 2/20\n",
            "2445/2445 [==============================] - 6s 3ms/step - loss: 1.3531 - accuracy: 0.6557 - val_loss: 0.9650 - val_accuracy: 0.6915\n",
            "Epoch 3/20\n",
            "2445/2445 [==============================] - 6s 2ms/step - loss: 1.0374 - accuracy: 0.6876 - val_loss: 0.9157 - val_accuracy: 0.6991\n",
            "Epoch 4/20\n",
            "2445/2445 [==============================] - 6s 2ms/step - loss: 0.9443 - accuracy: 0.6969 - val_loss: 0.8863 - val_accuracy: 0.6995\n",
            "Epoch 5/20\n",
            "2445/2445 [==============================] - 6s 2ms/step - loss: 0.9106 - accuracy: 0.7017 - val_loss: 0.8662 - val_accuracy: 0.7134\n",
            "Epoch 6/20\n",
            "2445/2445 [==============================] - 6s 2ms/step - loss: 0.8980 - accuracy: 0.7079 - val_loss: 0.8596 - val_accuracy: 0.7153\n",
            "Epoch 7/20\n",
            "2445/2445 [==============================] - 6s 3ms/step - loss: 0.8970 - accuracy: 0.7106 - val_loss: 0.8485 - val_accuracy: 0.7139\n",
            "Epoch 8/20\n",
            "2445/2445 [==============================] - 6s 3ms/step - loss: 0.8785 - accuracy: 0.7116 - val_loss: 0.8519 - val_accuracy: 0.7134\n",
            "Epoch 9/20\n",
            "2445/2445 [==============================] - 6s 3ms/step - loss: 0.8877 - accuracy: 0.7115 - val_loss: 0.8422 - val_accuracy: 0.7156\n",
            "Epoch 10/20\n",
            "2445/2445 [==============================] - 6s 2ms/step - loss: 0.8710 - accuracy: 0.7124 - val_loss: 0.8424 - val_accuracy: 0.7146\n",
            "Epoch 11/20\n",
            "2445/2445 [==============================] - 6s 2ms/step - loss: 0.8697 - accuracy: 0.7130 - val_loss: 0.8386 - val_accuracy: 0.7146\n",
            "Epoch 12/20\n",
            "2445/2445 [==============================] - 6s 3ms/step - loss: 0.8526 - accuracy: 0.7141 - val_loss: 0.8389 - val_accuracy: 0.7165\n",
            "Epoch 13/20\n",
            "2445/2445 [==============================] - 6s 3ms/step - loss: 0.8545 - accuracy: 0.7137 - val_loss: 0.8338 - val_accuracy: 0.7136\n",
            "Epoch 14/20\n",
            "2445/2445 [==============================] - 6s 2ms/step - loss: 0.8695 - accuracy: 0.7130 - val_loss: 0.8330 - val_accuracy: 0.7151\n",
            "Epoch 15/20\n",
            "2445/2445 [==============================] - 7s 3ms/step - loss: 0.9056 - accuracy: 0.7141 - val_loss: 0.8250 - val_accuracy: 0.7163\n",
            "Epoch 16/20\n",
            "2445/2445 [==============================] - 6s 3ms/step - loss: 1.1793 - accuracy: 0.7144 - val_loss: 0.8305 - val_accuracy: 0.7178\n",
            "Epoch 17/20\n",
            "2445/2445 [==============================] - 6s 3ms/step - loss: 0.8644 - accuracy: 0.7137 - val_loss: 0.8263 - val_accuracy: 0.7153\n",
            "Epoch 18/20\n",
            "2445/2445 [==============================] - 6s 3ms/step - loss: 0.8596 - accuracy: 0.7139 - val_loss: 0.8269 - val_accuracy: 0.7136\n",
            "Epoch 19/20\n",
            "2445/2445 [==============================] - 6s 3ms/step - loss: 0.8523 - accuracy: 0.7149 - val_loss: 0.8285 - val_accuracy: 0.7148\n",
            "Epoch 20/20\n",
            "2445/2445 [==============================] - 6s 3ms/step - loss: 0.9218 - accuracy: 0.7153 - val_loss: 0.8255 - val_accuracy: 0.7107\n"
          ]
        }
      ],
      "source": [
        "ann.compile(loss=\"sparse_categorical_crossentropy\", optimizer=\"adam\", metrics=['accuracy'])\n",
        "history=ann.fit(X_train, Y_train, epochs=20, validation_data=(X_test, Y_test))"
      ],
      "id": "68b89a03"
    },
    {
      "cell_type": "code",
      "execution_count": null,
      "metadata": {
        "colab": {
          "base_uri": "https://localhost:8080/"
        },
        "id": "2726faf9",
        "outputId": "424c5ccd-3259-4caa-9a30-78042047f1fc"
      },
      "outputs": [
        {
          "output_type": "stream",
          "name": "stdout",
          "text": [
            "129/129 [==============================] - 0s 2ms/step - loss: 0.8255 - accuracy: 0.7107\n",
            "Accuracy of Artificial Neural Network Model: [0.8254937529563904, 0.710711658000946]\n",
            "Precision Score of Artificial Neural Network Model: 0.710711683264513\n",
            "Recall Score of Artificial Neural Network Model: 0.710711683264513\n"
          ]
        }
      ],
      "source": [
        "Y_pred = [np.argmax(i) for i in ann.predict(X_test)]\n",
        "\n",
        "print(\"Accuracy of Artificial Neural Network Model:\", ann.evaluate(X_test, Y_test)[1])\n",
        "print(\"Precision Score of Artificial Neural Network Model:\", precision_score(Y_test, Y_pred, average=\"micro\"))\n",
        "print(\"Recall Score of Artificial Neural Network Model:\", recall_score(Y_test, Y_pred, average=\"micro\"))"
      ],
      "id": "2726faf9"
    },
    {
      "cell_type": "code",
      "execution_count": null,
      "metadata": {
        "colab": {
          "base_uri": "https://localhost:8080/",
          "height": 870
        },
        "id": "8286dd02",
        "outputId": "f517a9b6-3fa6-41e5-85b0-d2edf0ab4bc5"
      },
      "outputs": [
        {
          "output_type": "execute_result",
          "data": {
            "text/plain": [
              "<sklearn.metrics._plot.confusion_matrix.ConfusionMatrixDisplay at 0x7f676e1c2110>"
            ]
          },
          "metadata": {},
          "execution_count": 78
        },
        {
          "output_type": "display_data",
          "data": {
            "text/plain": [
              "<Figure size 1080x1080 with 2 Axes>"
            ],
            "image/png": "[encoded data removed]"
          },
          "metadata": {
            "needs_background": "light"
          }
        }
      ],
      "source": [
        "cm = confusion_matrix(Y_test, Y_pred)\n",
        "ConfusionMatrixDisplay(confusion_matrix=cm, display_labels=feature_class_attack_cat).plot()"
      ],
      "id": "8286dd02"
    },
    {
      "cell_type": "code",
      "execution_count": null,
      "metadata": {
        "colab": {
          "base_uri": "https://localhost:8080/"
        },
        "id": "5599dbb8",
        "outputId": "7a3cfd6d-17a4-40fc-c417-74fe1aacc446"
      },
      "outputs": [
        {
          "output_type": "execute_result",
          "data": {
            "text/plain": [
              "dict_keys(['loss', 'accuracy', 'val_loss', 'val_accuracy'])"
            ]
          },
          "metadata": {},
          "execution_count": 79
        }
      ],
      "source": [
        "history.history.keys()"
      ],
      "id": "5599dbb8"
    },
    {
      "cell_type": "code",
      "execution_count": null,
      "metadata": {
        "colab": {
          "base_uri": "https://localhost:8080/",
          "height": 893
        },
        "id": "a0e5a552",
        "outputId": "d4c6926e-7700-43aa-cd56-9b0836d95349"
      },
      "outputs": [
        {
          "output_type": "display_data",
          "data": {
            "text/plain": [
              "<Figure size 1080x1080 with 1 Axes>"
            ],
            "image/png": "[encoded data removed]"
          },
          "metadata": {
            "needs_background": "light"
          }
        }
      ],
      "source": [
        "loss_train = history.history['loss']\n",
        "loss_val = history.history['val_loss']\n",
        "epochs = range(20)\n",
        "plt.plot(epochs, loss_train, 'g', label='Training loss')\n",
        "plt.plot(epochs, loss_val, 'b', label='validation loss')\n",
        "plt.title('Training and Validation loss')\n",
        "plt.xlabel('Epochs')\n",
        "plt.ylabel('Loss')\n",
        "plt.legend()\n",
        "plt.show()"
      ],
      "id": "a0e5a552"
    },
    {
      "cell_type": "code",
      "execution_count": null,
      "metadata": {
        "colab": {
          "base_uri": "https://localhost:8080/",
          "height": 893
        },
        "id": "ebb9b8db",
        "outputId": "dc70a6a4-6d5b-406a-aed5-08df446207a9"
      },
      "outputs": [
        {
          "output_type": "display_data",
          "data": {
            "text/plain": [
              "<Figure size 1080x1080 with 1 Axes>"
            ],
            "image/png": "[encoded data removed]"
          },
          "metadata": {
            "needs_background": "light"
          }
        }
      ],
      "source": [
        "loss_train = history.history['accuracy']\n",
        "loss_val = history.history['val_accuracy']\n",
        "epochs = range(20)\n",
        "plt.plot(epochs, loss_train, 'g', label='Training accuracy')\n",
        "plt.plot(epochs, loss_val, 'b', label='validation accuracy')\n",
        "plt.title('Training and Validation accuracy')\n",
        "plt.xlabel('Epochs')\n",
        "plt.ylabel('Accuracy')\n",
        "plt.legend()\n",
        "plt.show()"
      ],
      "id": "ebb9b8db"
    },
    {
      "cell_type": "markdown",
      "metadata": {
        "id": "469cb785"
      },
      "source": [
        "## K-Nearest Neighbor (KNN)"
      ],
      "id": "469cb785"
    },
    {
      "cell_type": "code",
      "execution_count": null,
      "metadata": {
        "colab": {
          "base_uri": "https://localhost:8080/"
        },
        "id": "0c91ecf5",
        "outputId": "38bb947d-49c3-447d-c71c-794056489909"
      },
      "outputs": [
        {
          "output_type": "execute_result",
          "data": {
            "text/plain": [
              "KNeighborsClassifier(n_neighbors=3)"
            ]
          },
          "metadata": {},
          "execution_count": 82
        }
      ],
      "source": [
        "from sklearn.neighbors import KNeighborsClassifier\n",
        "\n",
        "knn = KNeighborsClassifier(n_neighbors=3)\n",
        "knn.fit(X_train, Y_train)"
      ],
      "id": "0c91ecf5"
    },
    {
      "cell_type": "code",
      "execution_count": null,
      "metadata": {
        "colab": {
          "base_uri": "https://localhost:8080/"
        },
        "id": "0031f6b3",
        "outputId": "ed5bdf41-3001-4c4d-8002-3b23471ccbfe"
      },
      "outputs": [
        {
          "output_type": "execute_result",
          "data": {
            "text/plain": [
              "(array([4]), 4)"
            ]
          },
          "metadata": {},
          "execution_count": 83
        }
      ],
      "source": [
        "knn.predict([X_test[0]]), Y_test[0]"
      ],
      "id": "0031f6b3"
    },
    {
      "cell_type": "code",
      "execution_count": null,
      "metadata": {
        "colab": {
          "base_uri": "https://localhost:8080/"
        },
        "id": "2e7cfee1",
        "outputId": "47d5c2ba-7ab4-4da8-f5e6-3c93ab288082"
      },
      "outputs": [
        {
          "output_type": "stream",
          "name": "stdout",
          "text": [
            "Accuracy of K Nearest Neighbor Model: 0.8304590721399077\n",
            "Precision Score of K Nearest Neighbor Model: 0.8304590721399077\n",
            "Recall Score of K Nearest Neighbor Model: 0.8304590721399077\n"
          ]
        }
      ],
      "source": [
        "Y_pred = knn.predict(X_test)\n",
        "\n",
        "print(\"Accuracy of K Nearest Neighbor Model:\", knn.score(X_test, Y_test))\n",
        "print(\"Precision Score of K Nearest Neighbor Model:\", precision_score(Y_test, Y_pred, average=\"micro\"))\n",
        "print(\"Recall Score of K Nearest Neighbor Model:\", recall_score(Y_test, Y_pred, average=\"micro\"))"
      ],
      "id": "2e7cfee1"
    },
    {
      "cell_type": "code",
      "execution_count": null,
      "metadata": {
        "colab": {
          "base_uri": "https://localhost:8080/",
          "height": 870
        },
        "id": "07b72bba",
        "outputId": "1ac951d8-66f6-4f7e-d3f6-afd79ffa5fe4"
      },
      "outputs": [
        {
          "output_type": "execute_result",
          "data": {
            "text/plain": [
              "<sklearn.metrics._plot.confusion_matrix.ConfusionMatrixDisplay at 0x7f674df59150>"
            ]
          },
          "metadata": {},
          "execution_count": 85
        },
        {
          "output_type": "display_data",
          "data": {
            "text/plain": [
              "<Figure size 1080x1080 with 2 Axes>"
            ],
            "image/png": "[encoded data removed]"
          },
          "metadata": {
            "needs_background": "light"
          }
        }
      ],
      "source": [
        "cm = confusion_matrix(Y_test, Y_pred)\n",
        "ConfusionMatrixDisplay(confusion_matrix=cm, display_labels=feature_class_attack_cat).plot()"
      ],
      "id": "07b72bba"
    },
    {
      "cell_type": "markdown",
      "metadata": {
        "id": "14d1c34c"
      },
      "source": [
        "## Bagging (Ensemble Method)"
      ],
      "id": "14d1c34c"
    },
    {
      "cell_type": "code",
      "execution_count": null,
      "metadata": {
        "id": "b313b282"
      },
      "outputs": [],
      "source": [
        "def predict(x):\n",
        "    hm={}\n",
        "    max_votes, res = 0, -1\n",
        "    \n",
        "    def change(model, max_votes, res):\n",
        "        temp=model.predict([x])[0]\n",
        "        hm[temp]=hm.get(temp,0)+1\n",
        "        if hm[temp]>max_votes:\n",
        "            res=temp\n",
        "            max_votes=hm[temp]\n",
        "            \n",
        "        return max_votes, res\n",
        "            \n",
        "    for model in [log_reg, rf, dtc, svm_model, knn]:\n",
        "        max_votes, res = change(model, max_votes, res)\n",
        "        \n",
        "    temp=np.argmax(ann.predict(np.array([x])))\n",
        "    hm[temp]=hm.get(temp,0)+1\n",
        "    if hm[temp]>max_votes:\n",
        "        res=temp\n",
        "        \n",
        "    return res"
      ],
      "id": "b313b282"
    },
    {
      "cell_type": "code",
      "execution_count": null,
      "metadata": {
        "id": "c316021f"
      },
      "outputs": [],
      "source": [
        "def calculate(X_test, Y_test):\n",
        "    Y_pred=[]\n",
        "    correct=0\n",
        "    for i in range(len(X_test)):\n",
        "        temp=predict(X_test[i])\n",
        "        if temp==Y_test[i]:\n",
        "            correct+=1\n",
        "        Y_pred.append(temp)\n",
        "        \n",
        "    return Y_pred, correct/len(X_test)"
      ],
      "id": "c316021f"
    },
    {
      "cell_type": "code",
      "execution_count": null,
      "metadata": {
        "colab": {
          "base_uri": "https://localhost:8080/"
        },
        "id": "6b652661",
        "outputId": "81926f63-567b-4a94-b0af-fe4c11c54cde"
      },
      "outputs": [
        {
          "output_type": "stream",
          "name": "stdout",
          "text": [
            "Accuracy of Bagging: 0.8217148409035706\n",
            "Precision Score of Bagging: 0.8217148409035706\n",
            "Recall Score of Bagging: 0.8217148409035706\n"
          ]
        }
      ],
      "source": [
        "Y_pred, accuracy = calculate(X_test, Y_test)\n",
        "\n",
        "print(\"Accuracy of Bagging:\", accuracy)\n",
        "print(\"Precision Score of Bagging:\", precision_score(Y_test, Y_pred, average=\"micro\"))\n",
        "print(\"Recall Score of Bagging:\", recall_score(Y_test, Y_pred, average=\"micro\"))"
      ],
      "id": "6b652661"
    },
    {
      "cell_type": "code",
      "execution_count": null,
      "metadata": {
        "colab": {
          "base_uri": "https://localhost:8080/",
          "height": 870
        },
        "id": "f405ae21",
        "outputId": "6f9bf67f-60cd-4b47-ebfc-c29553e6098a"
      },
      "outputs": [
        {
          "output_type": "execute_result",
          "data": {
            "text/plain": [
              "<sklearn.metrics._plot.confusion_matrix.ConfusionMatrixDisplay at 0x7f67580ebc50>"
            ]
          },
          "metadata": {},
          "execution_count": 89
        },
        {
          "output_type": "display_data",
          "data": {
            "text/plain": [
              "<Figure size 1080x1080 with 2 Axes>"
            ],
            "image/png": "[encoded data removed]"
          },
          "metadata": {
            "needs_background": "light"
          }
        }
      ],
      "source": [
        "cm = confusion_matrix(Y_test, Y_pred)\n",
        "ConfusionMatrixDisplay(confusion_matrix=cm, display_labels=feature_class_attack_cat).plot()"
      ],
      "id": "f405ae21"
    },
    {
      "cell_type": "code",
      "execution_count": null,
      "metadata": {
        "id": "aGMGHAuvnnaB",
        "colab": {
          "base_uri": "https://localhost:8080/"
        },
        "outputId": "46432bb1-cb43-40e8-e9bb-53196942c0a6"
      },
      "outputs": [
        {
          "name": "stdout",
          "output_type": "stream",
          "text": [
            "Enter values sbytes, sload, dmean, ct_dst_sport_ltm, dur, dttl, ct_dst_src_ltm, proto, ct_src_dport_ltm, dload, dinpkt, ct_src_ltm, tcprtt, smean, dbytes, rate, ct_srv_dst, ct_state_ttl, service, ct_srv_src, sttl, dpkts, ct_dst_ltm, sinpkt, synack 496 180363632 0 1 0.000011 0 2 udp 1 0 0 1 0 248 0 90909.0902 2 2 - 2 254 0 1 0.011 0\n"
          ]
        }
      ],
      "source": [
        "values=list(input(\"Enter values sbytes, sload, dmean, ct_dst_sport_ltm, dur, dttl, ct_dst_src_ltm, proto, ct_src_dport_ltm, dload, dinpkt, ct_src_ltm, tcprtt, smean, dbytes, rate, ct_srv_dst, ct_state_ttl, service, ct_srv_src, sttl, dpkts, ct_dst_ltm, sinpkt, synack \").split())"
      ],
      "id": "aGMGHAuvnnaB"
    },
    {
      "cell_type": "code",
      "execution_count": null,
      "metadata": {
        "id": "pnQW34ODyusd"
      },
      "outputs": [],
      "source": [
        "def to_log(value):\n",
        "  if value==0: return 0\n",
        "  else: return math.log(value)"
      ],
      "id": "pnQW34ODyusd"
    },
    {
      "cell_type": "code",
      "execution_count": null,
      "metadata": {
        "id": "EL6uWK6HoGN1"
      },
      "outputs": [],
      "source": [
        "# [\"sbytes\", \"sload\", \"dload\", \"rate\", \"sinpkt\"]\n",
        "def refactor_values(values):\n",
        "  res=[]\n",
        "  for i in range(len(values)):\n",
        "    if i in {0,1,9,15,23}:\n",
        "      res.append(to_log(float(values[i])))\n",
        "    elif i==7:\n",
        "      res.append(hm_proto[values[i]])\n",
        "    elif i==18:\n",
        "      res.append(hm_service[values[i]])\n",
        "    else:\n",
        "      res.append(float(values[i]))\n",
        "\n",
        "  return res"
      ],
      "id": "EL6uWK6HoGN1"
    },
    {
      "cell_type": "code",
      "execution_count": null,
      "metadata": {
        "id": "F85bWSOJ7v_N"
      },
      "outputs": [],
      "source": [
        "refactored_values = refactor_values(values)"
      ],
      "id": "F85bWSOJ7v_N"
    },
    {
      "cell_type": "code",
      "execution_count": null,
      "metadata": {
        "id": "KdQ0nFyP8A1y",
        "colab": {
          "base_uri": "https://localhost:8080/"
        },
        "outputId": "7ab27161-106e-4697-c471-fbe758d87bb1"
      },
      "outputs": [
        {
          "output_type": "stream",
          "name": "stdout",
          "text": [
            "Normal\n"
          ]
        }
      ],
      "source": [
        "prediction = feature_class_attack_cat[predict(refactored_values)]\n",
        "print(prediction)"
      ],
      "id": "KdQ0nFyP8A1y"
    },
    {
      "cell_type": "code",
      "execution_count": null,
      "metadata": {
        "id": "HhrSd4IJ5KX3"
      },
      "outputs": [],
      "source": [
        "prevention={\n",
        "    \"DoS\": \"Network traffic can be supervised via a firewall or intrusion detection system. Administrators can set up rules that create alerts for unusual traffic, identify traffic sources or drop network packets that meet a certain criteria.\",\n",
        "    \"Exploits\": \"Strengthen security posture: This includes fortifying all internet-facing devices to prevent compromise, installing and maintaining antivirus software, establishing firewalls configured to protect against DoS attacks and following robust security practices to monitor and manage unwanted traffic.\",\n",
        "    \"Worms\": \"Monitor traffic: Organizations can enroll in a service that detects or redirects the abnormal traffic flows typically associated with a DoS attack, while allowing normal traffic to proceed on the network.\",\n",
        "    \"Generic\": \"Invest in a patch management system that will manage all software and system updates, keeping your system resilient and up to date.\",\n",
        "    'Reconnaissance': \"Ensure Endpoint Protection: Endpoint protection protects networks that are remotely bridged to devices. Mobile devices, tablets and laptops that are connected to corporate networks give access paths to security threats. These paths need protected with specific endpoint protection software.\",\n",
        "    'Backdoor': \"Putting your network behind a firewall is one of the most effective ways to defend yourself from any cyber attack. A firewall system will block any brute force attacks made on your network and/or systems before it can do any damage.\",\n",
        "    'Shellcode': \"Believe it or not, one of the attacks that you can receive on your systems can be physical, having control over who can access your network is really really important. Somebody can simply walk into your office or enterprise and plug in a USB key containing infected files into one of your computers allowing them access to your entire network or infect it. It’s essential to control who has access to your computers. Having a perimeter security system installed is a very good\",\n",
        "    'Fuzzers': \"Having managed admin rights and blocking your staff installing or even accessing certain data on your network is beneficial to your security.\",\n",
        "    'Analysis': \"Having the same password setup for everything can be dangerous. Once a hacker figures out your password, they now have access to everything in your system and any application you use. Having different passwords setup for every application you use is a real benefit to your security, and changing them often will maintain a high level of protection against external and internal threats.\"\n",
        "}"
      ],
      "id": "HhrSd4IJ5KX3"
    },
    {
      "cell_type": "code",
      "source": [
        "if prediction!=\"Normal\":\n",
        "  print(prevention[prediction])"
      ],
      "metadata": {
        "id": "ty4iRrN9BGhe"
      },
      "id": "ty4iRrN9BGhe",
      "execution_count": null,
      "outputs": []
    }
  ],
  "metadata": {
    "accelerator": "GPU",
    "colab": {
      "provenance": []
    },
    "gpuClass": "standard",
    "kernelspec": {
      "display_name": "Python 3 (ipykernel)",
      "language": "python",
      "name": "python3"
    },
    "language_info": {
      "codemirror_mode": {
        "name": "ipython",
        "version": 3
      },
      "file_extension": ".py",
      "mimetype": "text/x-python",
      "name": "python",
      "nbconvert_exporter": "python",
      "pygments_lexer": "ipython3",
      "version": "3.7.11"
    }
  },
  "nbformat": 4,
  "nbformat_minor": 5
}